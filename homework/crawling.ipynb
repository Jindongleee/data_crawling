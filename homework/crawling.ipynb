{
 "cells": [
  {
   "cell_type": "markdown",
   "id": "dad12842",
   "metadata": {},
   "source": [
    "### 1. 네이버 API로 블로그에서 '월드컵'에 대한 검색 결과를 크롤링하여 파일로 저장하는 프로그램을 작성하시오."
   ]
  },
  {
   "cell_type": "code",
   "execution_count": 50,
   "id": "16630cea",
   "metadata": {},
   "outputs": [],
   "source": [
    "# architecture\n",
    "# 네이버 open api에 요청 -> 검색 결과를 json 파일로 저장\n",
    "\n",
    "client_id = 'Q_ZBQe8hknZaoRCQivJF'\n",
    "client_secret = 'rCffqkIgDq'"
   ]
  },
  {
   "cell_type": "code",
   "execution_count": 57,
   "id": "30a667e6",
   "metadata": {},
   "outputs": [],
   "source": [
    "import os\n",
    "import sys\n",
    "import urllib.request\n",
    "import json"
   ]
  },
  {
   "cell_type": "code",
   "execution_count": 58,
   "id": "cb7cc15b",
   "metadata": {},
   "outputs": [
    {
     "data": {
      "text/plain": [
       "'%ED%99%94%EC%9E%AC'"
      ]
     },
     "execution_count": 58,
     "metadata": {},
     "output_type": "execute_result"
    }
   ],
   "source": [
    "encText = input()\n",
    "encText = urllib.parse.quote(encText) # encoding\n",
    "\n",
    "encText"
   ]
  },
  {
   "cell_type": "code",
   "execution_count": 61,
   "id": "5c006a60",
   "metadata": {},
   "outputs": [],
   "source": [
    "start = 50000\n",
    "\n",
    "base = 'https://openapi.naver.com/v1/search/blog?query='\n",
    "url = base + encText +\"&display=100&start=%d&sort=date\" % 1000\n",
    "request = urllib.request.Request(url)\n",
    "request.add_header(\"X-Naver-Client-Id\", client_id)\n",
    "request.add_header(\"X-Naver-Client-Secret\", client_secret)"
   ]
  },
  {
   "cell_type": "code",
   "execution_count": 124,
   "id": "cb6d78a3",
   "metadata": {},
   "outputs": [
    {
     "data": {
      "text/plain": [
       "str"
      ]
     },
     "execution_count": 124,
     "metadata": {},
     "output_type": "execute_result"
    }
   ],
   "source": [
    "response = urllib.request.urlopen(request)\n",
    "response_body = response.read().decode('utf-8')\n",
    "\n",
    "type(response_body)"
   ]
  },
  {
   "cell_type": "code",
   "execution_count": 141,
   "id": "0ff1f661",
   "metadata": {},
   "outputs": [
    {
     "name": "stdout",
     "output_type": "stream",
     "text": [
      "5487350\n",
      "[{'title': '용인 주방 후드 교체 소음·냄새로 보는 교체 시기와 비용', 'link': 'https://blog.naver.com/mile4124/224024742326', 'description': '전원 해제는 감전이나 <b>화재</b>를 예방하기 위해 반드시 필요한 과정입니다 기존 후드 철거 및 수거 2. 기존 후드 철거 및 수거 상부 수납장에 고정되어 있던 기존 후드를 분리한 후, 제품 박스에 담아 안전하게 폐기... ', 'bloggername': '마일산업', 'bloggerlink': 'blog.naver.com/mile4124', 'postdate': '20250928'}, {'title': '【이은숙 사건읽기 2】하루 지난 대전 국가정보자원관리원 불... ', 'link': 'https://blog.naver.com/esejong1/224024741663', 'description': '이은숙 기자 승인 2025.09.27 19:46 대전 국가정보자원관리원 <b>화재</b>현장.[사진=본지db].png 대전시 유성구 대전국가정보자원관리원에서 발생한 <b>화재</b>가 10시간여만에 초기진화됐다. 27일 소방당국은... ', 'bloggername': '이세종경제', 'bloggerlink': 'blog.naver.com/esejong1', 'postdate': '20250928'}, {'title': '용인시 기흥구 동백동 고물매입 고철비철 방문수거신청', 'link': 'https://blog.naver.com/mitt75513/224024741807', 'description': '쌓여만 가는 고철, 폐자재, 사용하지 않는 가구나 전자제품 등은 공간을 비효율적으로 만들 뿐 아니라, 잘못 관리하면 <b>화재</b> 위험, 해충 발생, 악취 문제로 이어질 수 있죠. 그렇기 때문에 주기적인 정리와... ', 'bloggername': '고품격 보이스', 'bloggerlink': 'blog.naver.com/mitt75513', 'postdate': '20250928'}, {'title': '도봉소방서, 추석 연휴 대비 전통시장 <b>화재</b>예방 합동 캠페인 전개', 'link': 'https://blog.naver.com/gbnews/224024741825', 'description': '합동 <b>화재</b>예방 캠페인’을 성공적으로 마쳤다고 밝혔다. 이번 캠페인은 추석 연휴 동안 전통시장을 찾는 시민들의 안전을 도모하고, <b>화재</b>로부터 상인들의 소중한 재산을 보호하기 위해 마련됐다. 도봉소방서를... ', 'bloggername': '서울강북신문', 'bloggerlink': 'blog.naver.com/gbnews', 'postdate': '20250928'}, {'title': '강서구 명지동 영어도시 퀸덤1차 아인슈타인 타운아파트경매정보', 'link': 'https://blog.naver.com/mnf9289/224024741114', 'description': '급·배수설비, <b>화재</b>탐지 및 경보설비 등 되어 있음 5)설비내역 위생설비 및 소화전설비... 문<b>화재</b>보존 영향 검토대상구역{부산광역시지정문<b>화재</b>보호조례}, 국가산업단지{산업입지 및 개발에 관한... ', 'bloggername': '해법 경매', 'bloggerlink': 'blog.naver.com/mnf9289', 'postdate': '20250928'}, {'title': '그대가 웃은 내일은 비가 올까?', 'link': 'https://blog.naver.com/happyfluffycurry/224024741071', 'description': '재명페이 쓰면 되니까 근데 국가정보자원관리원 <b>화재</b>때문에 제 주거래은행인 우체국이 며칠째 말을 안 들어서.. ㅠㅜㅜ 후불교통카드로 결제하고 ..ㅜㅜ 안그래도 검사도 이것저것 해서 진료비도 좀 나오고... ', 'bloggername': 'papayaguavasoda', 'bloggerlink': 'blog.naver.com/happyfluffycurry', 'postdate': '20250928'}, {'title': '국가정보자원<b>화재</b>,전산대란으로 드러난 국가시스템의 민낯', 'link': 'https://blog.naver.com/nogray53/224024740514', 'description': '국가정보자원관리원 <b>화재</b>, 총체적 전산 대란이 드러낸 국가 시스템의 민낯 1. 국가 기반시설, 한 번의 <b>화재</b>에 무너졌다 대전 국가정보자원관리원 전산실 <b>화재</b>로 정부24, 나라장터, 국민신문고 등 600여 개의 국가... ', 'bloggername': 'nogray53님의 블로그', 'bloggerlink': 'blog.naver.com/nogray53', 'postdate': '20250928'}, {'title': '앞목동 목동신시가지아파트 임장 | 박보검, 전현무, 그리도 배러댄', 'link': 'https://blog.naver.com/woo_grida/224024739237', 'description': '미친거 아니에요(긍정적 문화충격) 목동 신시가지5단지 용적률이 123%밖에 되지 않는 평균대지 지분이 28평 나온다라고 알고 있는 엄청난 <b>화재</b>의 아파트 목동신시가지 5단지 아파트에 있습니다. 학원가를 끼고... ', 'bloggername': '배러댄의 더 나은 삶', 'bloggerlink': 'blog.naver.com/woo_grida', 'postdate': '20250928'}, {'title': '국가정보원 <b>화재</b>, 우리가 꼭 알아야 할 충격적인 이유!', 'link': 'https://blog.naver.com/placeinthesun/224024739395', 'description': '지난 9월 26일 저녁, 대전의 국가정보자원관리원(국정자원) 전산실에서 <b>화재</b>가 발생했습니다. 이곳은... 이러한 구조적 취약성이 드러나면서, 이번 <b>화재</b>는 단순 사고를 넘어 국가 디지털 행정의 근본적인... ', 'bloggername': '건강, 부, 영어와 함께 행복한 일상♡', 'bloggerlink': 'blog.naver.com/placeinthesun', 'postdate': '20250928'}, {'title': '서울 고독사청소, 30분 내 긴급 출동과 원스톱 책임 완성... ', 'link': 'https://blog.naver.com/middleerth19863/224024738123', 'description': '강아지·고양이 냄새 제거까지 한 곳에서 처리 고독사 현장에는 쓰레기 외에도 반려동물 냄새나 침수, <b>화재</b> 잔해가 생기는 경우가 많습니다. 서울 고독사청소 전문 팀은 모든 이를 한 곳에서 처리해 복잡한... ', 'bloggername': '높은연기자', 'bloggerlink': 'blog.naver.com/middleerth19863', 'postdate': '20250928'}, {'title': '&quot;의문은 진실 규명의 첫 조건&quot;', 'link': 'https://blog.naver.com/hkc0929/224024738269', 'description': '가짜 정권 창출한 이 민주당 친중종북들이 있기에 얼마든지 추정이 가능한 것임 전부터 원인을 밝히기 어려운 <b>화재</b>로 모든 것을 은폐시켜왔다 예를 들면 부정선거 투표지 보관 물류센터 잇따른 <b>화재</b> 등등', 'bloggername': \"Engi's Conpaper\", 'bloggerlink': 'blog.naver.com/hkc0929', 'postdate': '20250928'}, {'title': '다꾸템 늘리기', 'link': 'https://blog.naver.com/ao73/224024738349', 'description': '금욜에 우체국택배 접수하고서 자고 일어났더니 국가정보자원관리원 <b>화재</b>로 난리 그 여파인지 택배조회가 안돼서 걱정했는데 다행히 토요일에 잘 받았다고 연락옴! 휴~ 답례로 인형 손목패드 만들어서... ', 'bloggername': '┼─‥게으름뱅이의 휴일‥─┼', 'bloggerlink': 'blog.naver.com/ao73', 'postdate': '20250928'}, {'title': '[안성 제3회 용설, 구월의 유럽 수국 축제] 무료 개방... ', 'link': 'https://blog.naver.com/2020najeong/224024738720', 'description': '<b>화재</b>예방을 위하여 농원내에서는 금연입니다. 농원내 식물의 무단체취를 금지합니다. 주차시, 연락처를 남겨주세요 시를 보며 수국을 즐기니 감동이 배가 되더라고요! 저는 특히 이곳의 거울 포토존을 그냥... ', 'bloggername': '라푼젤, 한 올 한 올 쌓여가는 일기', 'bloggerlink': 'blog.naver.com/2020najeong', 'postdate': '20250928'}, {'title': '부산 특수청소, 삶의 무게를 함께 지고 공간을 새롭게 만드는... ', 'link': 'https://blog.naver.com/prxis23339/224024737660', 'description': '광범위한 특수청소 영역, 다양한 현장 대응 부산 특수청소는 고독사, 사고 현장, <b>화재</b> 복구, 유품 정리 그리고 쓰레기집 청소까지 그 영역이 매우 넓습니다. 각각의 현장은 특수성이 있으므로, 저희는 맞춤형... ', 'bloggername': '잔잔한치토스', 'bloggerlink': 'blog.naver.com/prxis23339', 'postdate': '20250928'}, {'title': '나이스, K-에듀파인 시스템, 일부 기능 제외 이용 가능... ', 'link': 'https://blog.naver.com/moeblog/224024737617', 'description': 'hwp 교육부(부총리 겸 교육부 장관 최교진)는 국가정보자원관리원 <b>화재</b>로 발생한 시스템 장애와... 및 <b>화재</b>대응 방안을 점검하여 줄 것을 요청하였으며, 현장의 예기치 못한 시스템 장애에 대비하여 오늘 중... ', 'bloggername': '교육부', 'bloggerlink': 'blog.naver.com/moeblog', 'postdate': '20250928'}, {'title': '2025 여수 NH농협컵 프로배구대회 경기결과 - 9월 28일 일요일', 'link': 'https://blog.naver.com/msh3398/224024737860', 'description': 'NAVER ➖➖➖➖➖➖➖➖ #KOVO #V리그 #코보 #프로배구 #남자프로배구 #여자프로배구 #현대캐피탈스카이워커스 #대한항공점보스 #KB손해보험스타즈 #우리카드우리WON #삼성<b>화재</b>블루팡스... ', 'bloggername': 'Jn님의 정보 공유방 (스포츠/연예)', 'bloggerlink': 'blog.naver.com/msh3398', 'postdate': '20250928'}, {'title': '우체국 전산마비 국가정보자원관리원 <b>화재</b> 추석전 불편해졌다', 'link': 'https://blog.naver.com/jojn801/224024736494', 'description': '우체국 전산마비 국가정보자원관리원 <b>화재</b> 추석전 불편해졌다 추석을 앞두고 갑작스러운 우체국... 며칠 전, 국가정보자원관리원 대전센터 <b>화재</b>가 발생했습니다. 정부 전산망이 모여 있는 이곳에서 불이 나면서... ', 'bloggername': '인생 2회차 보통 사람의 월 1억 성장기', 'bloggerlink': 'blog.naver.com/jojn801', 'postdate': '20250928'}, {'title': '[속보] 국정자원 <b>화재</b> 실시간 백업 부재로 데이터 손실 우려', 'link': 'https://blog.naver.com/yujin0102002/224024736857', 'description': '지난 26일 대전 본원에서 발생한 국가정보자원관리원(국정자원) <b>화재</b>가 단순한 <b>화재</b> 사고를 넘어 국가 행정 시스템 전반의 신뢰 문제로 번지고 있습니다. 이번 사고로 일부 행정정보시스템이 멈추는 상황이... ', 'bloggername': '카페사장의 경제노하우', 'bloggerlink': 'blog.naver.com/yujin0102002', 'postdate': '20250928'}, {'title': '2025년 9월 27일 국내 경제 뉴스 요약', 'link': 'https://blog.naver.com/stonnics11/224024736375', 'description': '중앙데이터센터 <b>화재</b>, 551개 이상 행정 시스템 정상화 중  정부, MSCI 선진국 지수 편입 추진 연계... 중앙데이터센터 <b>화재</b>, 551개 이상 행정 시스템 정상화 중  요약 : 대전 소재 국가정보자원센터가 <b>화재</b> 피해를... ', 'bloggername': '경제 읽는 밤', 'bloggerlink': 'blog.naver.com/stonnics11', 'postdate': '20250928'}, {'title': '의정수 특수청소의 병원급 프로토콜로 안전하고 신속한 현장... ', 'link': 'https://blog.naver.com/preching44036/224024736399', 'description': '특수청소, 단순 청소를 넘어선 전문 영역 일반 청소와 달리 특수청소는 고독사, <b>화재</b> 현장, 쓰레기집 등 누구나 감당하기 힘든 문제를 다룹니다. 특히 위험 요소까지 철저히 제거해야 하죠. 의정수 특수청소가... ', 'bloggername': '무서운도둑', 'bloggerlink': 'blog.naver.com/preching44036', 'postdate': '20250928'}, {'title': '&quot;나라의 디지털 심장, 멈춰버린 현장을 직접 확인했습니다&quot;', 'link': 'https://blog.naver.com/lsksml/224024736908', 'description': \"(국정자원) <b>화재</b> 현장을 다녀왔습니다. 행정안전부와 국정자원 담당자를 통해 확인한 <b>화재</b> 원인은 이번에도 '부주의'였습니다. 2년 전 전산망 사고를 경험하고도 정부의 예방책은 미흡했습니다. 전소된 <b>화재</b>... \", 'bloggername': '22대 국회의원 이성권 입니다!', 'bloggerlink': 'blog.naver.com/lsksml', 'postdate': '20250928'}, {'title': '29. 관심 주식 (국가전산망<b>화재</b>) 인성정보, 링네트, 오파스넷', 'link': 'https://blog.naver.com/kysoooo1/224024735457', 'description': '인성정보, 링네트, 오파스넷: IT 인프라와 네트워크 복원 시대의 핵심 기업들 최근 국가 전산망 <b>화재</b>와... 특히 국가 전산망 <b>화재</b>와 같은 대형 사고 이후, 데이터센터 복원·네트워크 안정화·보안 솔루션에... ', 'bloggername': '바다', 'bloggerlink': 'blog.naver.com/kysoooo1', 'postdate': '20250928'}, {'title': '강동용접회사 물류창고 2층 각파이프 가대공사', 'link': 'https://blog.naver.com/xscperson/224024735746', 'description': '첫 번째로 <b>화재</b> 위험이 있으며, 작업 중 불꽃이 튈 수 있습니다. 이를 방지하기 위해, 용접 작업 전 주변을 철저히 점검하고 flammable 서 sản phẩm을 제거해야 합니다. 두 번째는 눈 보호입니다. 아크 용접 중... ', 'bloggername': '이름 없는 조각배', 'bloggerlink': 'blog.naver.com/xscperson', 'postdate': '20250928'}, {'title': '롤스크린 방염 블라인드, 안전과 실용성을 동시에 갖춘 선택', 'link': 'https://blog.naver.com/sulvi1475/224024736243', 'description': '그중 롤스크린 방염 블라인드는 <b>화재</b> 안전성을 확보하면서도 깔끔한 디자인과 다양한 활용성을... 특히 방염 기능이 적용된 롤스크린 블라인드는 <b>화재</b> 발생 시 연소 속도를 늦추고, 유해 연기 발생을... ', 'bloggername': '루안커튼 블라인드', 'bloggerlink': 'blog.naver.com/sulvi1475', 'postdate': '20250928'}, {'title': '진주시, 국가정보시스템 장애에 긴급 대응회의 개최', 'link': 'https://blog.naver.com/jbkjbk2002/224024736212', 'description': '- 민원처리 차질 최소화 대책 마련 - 홈페이지 팝업·현장 안내로 대체 서비스 적극 홍보 진주시, 국가정보자원관리원 <b>화재</b> 관련 긴급 대응책 마련.사진=진주시 지난 26일 국가정보자원관리원 <b>화재</b>로... ', 'bloggername': '경남탑뉴스', 'bloggerlink': 'blog.naver.com/jbkjbk2002', 'postdate': '20250928'}, {'title': '본격!가톨릭대 논술 후기', 'link': 'https://blog.naver.com/jacob_526/224024734737', 'description': '소신발언을 하자면 국가정보청에 <b>화재</b>가 일어나 수많은 정보가 유실되고 전산이 마비되는 국가비상사태인 상황에서 유념해야 되는 시점에 어제 같이 마구 즐기며 불꽃축제를 하는 건 옳지 않다고 생각합니다.... ', 'bloggername': 'team0u', 'bloggerlink': 'blog.naver.com/jacob_526', 'postdate': '20250928'}, {'title': '4구가스렌지3구로바꾸기', 'link': 'https://blog.naver.com/dandanworkshop/224024376277', 'description': '특히 오래된 제품은 <b>화재</b>나 가스 누출 같은 위험이 있을 수 있으니, 증상이 나타날 때 미루지 말고 교체를 고려하시는 것이 좋습니다. 이번처럼 4구에서 3구로 교체를 원하시는 경우에도 설치가 가능하며... ', 'bloggername': '단단공작소 010-7980-3747 생활밀착형 수리전문', 'bloggerlink': 'blog.naver.com/dandanworkshop', 'postdate': '20250928'}, {'title': '소방관리사 자격증 준비부터 합격까지 완벽 가이드', 'link': 'https://blog.naver.com/cellblock9789445/224022827451', 'description': '소방관리사란 무엇일까요 소방관리사는 건축물과 시설에서 발생할 수 있는 <b>화재</b> 위험을 예방하고, <b>화재</b> 발생 시 효과적으로 대응할 수 있도록 관리와 지도를 담당하는 전문 자격입니다. 소방관리사는 법적으로... ', 'bloggername': '~공부를 하자~', 'bloggerlink': 'blog.naver.com/cellblock9789445', 'postdate': '20250928'}, {'title': '백대현 부장판사, 서울중앙지법에서의 공정한 심리와 역할', 'link': 'https://blog.naver.com/daragbang_info/224024518869', 'description': '또한 쿠팡 물류센터 <b>화재</b> 사건에서는 <b>화재</b>경보 묵살 혐의로 직원들에게 실형을 선고하고 회사 법인에 벌금형을 부과하며 안전 의무의 중요성을 강조했어요. 이러한 판결들은 백대현 판사님의 엄격하면서도... ', 'bloggername': '다락방 정보창고', 'bloggerlink': 'blog.naver.com/daragbang_info', 'postdate': '20250928'}, {'title': '의정부 고독사청소, 원스톱 시스템으로 신속 안전하게 공간... ', 'link': 'https://blog.naver.com/indeed44117/224024734282', 'description': '강아지·고양이 냄새 제거부터 침수와 <b>화재</b> 잔해 처리까지 전문적으로 진행하며, 별도의 절차 없이 신속한 대응이 가능합니다. 복합 문제를 한 번에 해결하는 현장 관리 특수청소는 단순 청결 작업이 아닙니다.... ', 'bloggername': '좁은리프', 'bloggerlink': 'blog.naver.com/indeed44117', 'postdate': '20250928'}, {'title': '러닝 일지(안양천-월드컵대교-망원스타벅스-양화대교까지)', 'link': 'https://blog.naver.com/watermelonseed-/224024733937', 'description': '소방청 “국정자원 <b>화재</b>, 22시간 만에 ‘완진’” 불타는 토요일(?) 국가정보관리원에 <b>화재</b>가 발생해서 지난밤부터 이어진 업무카톡에 세대주님의 스트레스가 극에 달한 날. 우체국 업무까지 마비되어.. 업무에... ', 'bloggername': '노는게제일조아', 'bloggerlink': 'blog.naver.com/watermelonseed-', 'postdate': '20250928'}, {'title': '활동펼쳐 / 경남도, 대전국가정보자원관리원<b>화재</b>대응총력', 'link': 'https://blog.naver.com/jungam-ironware/224024733750', 'description': '국가정보자원관리원 <b>화재</b>에 따라 국민신문고 및 소민터(소방민원센터) 온라인시스템 운영이 일시... 기타 민원 5종 - <b>화재</b>안전조사연기신청, <b>화재</b>예방안전조치 협의신청, 소방훈련실시 결과서, 조치명령등의... ', 'bloggername': '경남_김해철물점_정암철물', 'bloggerlink': 'blog.naver.com/jungam-ironware', 'postdate': '20250928'}, {'title': '우체국 언제 복구되나?', 'link': 'https://blog.naver.com/aszx4008/224024734199', 'description': '어이없다 <b>화재</b>가 한곳에서 났는데 이렇게 며칠째 사용을 못한다고? 중요한 국가정보기관인데 이렇게 허술하다고? 무비자중국인들 들어오기 시작할텐데 아무상관없나?정말?119도 전화로만 된다하고 전화를... ', 'bloggername': '하늘보쌈/몽몽', 'bloggerlink': 'blog.naver.com/aszx4008', 'postdate': '20250928'}, {'title': \"'국정자원 <b>화재</b>'로 부각된 배터리 안전성 논란..정부 ESS... \", 'link': 'https://blog.naver.com/ykh512/224024734203', 'description': '[파이낸셜뉴스] 국가정보자원관리원에서 발생한 리튬이온 배터리 <b>화재</b>로, 배터리 업계에선 배터리 안전성 논란이 확산될까 우려하고 있다. 배터리 자체의 문제로 이번 <b>화재</b>가 발생한 것은 아니라는 의견에... ', 'bloggername': '^^ /', 'bloggerlink': 'blog.naver.com/ykh512', 'postdate': '20250928'}, {'title': '남양주진접 캡스 CCTV 설치 캡스비용 캡스렌탈 캡스문의... ', 'link': 'https://blog.naver.com/btsnaecszxj5434/224024734101', 'description': '일반 CCTV나 간이 경보기만으로는 외부 침입이나 <b>화재</b>와 같은 위험 상황에 대응하기 어렵기 때문입니다. 전문 보안업체는 최신 기술을 활용한 모니터링 시스템과 신속한 대응 능력으로 보다 안전한 환경을... ', 'bloggername': '감동의순간들', 'bloggerlink': 'blog.naver.com/btsnaecszxj5434', 'postdate': '20250928'}, {'title': '롯데손해보험 주택<b>화재</b>보험: 보험료 조회 &amp; 보장 내용, 우리... ', 'link': 'https://deliciousstory2015.tistory.com/967', 'description': '롯데손해보험 주택<b>화재</b>보험 보험료 조회 &amp; 보장 내용, 자신의 소중한 집을 <b>화재</b>로부터 안전하게 지키는 것은 무엇보다 중요합니다. 롯데손해보험의 주택<b>화재</b>보험은 집과 재산을 <b>화재</b> 등 재해로부터 보호하는 데... ', 'bloggername': 'Delicious Story', 'bloggerlink': 'https://deliciousstory2015.tistory.com/', 'postdate': '20250928'}, {'title': '네이버 쇼핑 가전 1위 36만7천대 이상 팔린 국민 계란찜기는... ', 'link': 'https://blog.naver.com/tuesdaycherry/224024733401', 'description': '안심 구매 – 30일내 불량 100% 환불 1년 무상 A/S 삼성<b>화재</b> 책임보험 가입 실제 사용자 후기 1.위생 &amp; 안전성:“기존 타제품은 모두 플라스틱이라 찝찝했는데 디온리 계란찜기는 올스텐이라 깨끗하고... ', 'bloggername': '리뷰미 연구소', 'bloggerlink': 'blog.naver.com/tuesdaycherry', 'postdate': '20250928'}, {'title': '장애·행정 전산 마비 현황과 국민 체크리스트 30가지', 'link': 'https://blog.naver.com/findsignal/224024733680', 'description': 'https://findsignal.tistory.com/m/517 국가정보자원관리원 <b>화재</b> 총정리｜정부24 오류·홈택스 장애·행정 전산 마비 현황과 국민 체크리스트 30가지 #국가정보자원관리원<b>화재</b> #정부24오류해결 #홈택스장애확인... ', 'bloggername': '시그널로그', 'bloggerlink': 'blog.naver.com/findsignal', 'postdate': '20250928'}, {'title': '&quot;전산망 터지자 유커 입국 막아라!&quot; 나경원 폭탄 발언에, 고민정... ', 'link': 'https://blog.naver.com/wjh92/224024733044', 'description': '국가정보자원관리원 <b>화재</b>로 인한 정부 전산망 마비 사태가 엉뚱한 방향으로 불똥이 튀고 있습니다.... 나 의원은 국가정보자원관리원 <b>화재</b>로 인해 모바일 신분증을 포함한 행정 전산망이 심각하게 훼손되었다는... ', 'bloggername': '엑세스의 블로그', 'bloggerlink': 'blog.naver.com/wjh92', 'postdate': '20250928'}, {'title': '공지) 국가정보자원관리원 <b>화재</b>관련 업무지연 안내', 'link': 'https://blog.naver.com/kcekorea/224024733697', 'description': '최근 발생한 국가정보자원관리원 <b>화재</b>로 인해 현재까지도 복구 작업이 진행 중이며, 이로 인해 당사... 국가정보자원관리원<b>화재</b>로인한 업무지연안내 (주)이지케이씨인증원 또한, 긴급한 업무 처리의 경우... ', 'bloggername': '.', 'bloggerlink': 'blog.naver.com/kcekorea', 'postdate': '20250928'}, {'title': '부산 쓰레기집 청소, 믿을 수 있는 원스톱 전문팀의 체계적... ', 'link': 'https://blog.naver.com/mismtch20236/224024732964', 'description': '원스톱 서비스 제공, 한 곳에서 끝나는 부산 쓰레기집 청소 강아지·고양이 냄새 제거부터 침수 및 <b>화재</b> 잔해 처리, 철거와 폐기물 정리, 외벽 특수청소, 소독과 방역까지 모든 과정이 한 업체에서 원스톱으로... ', 'bloggername': '돈없는일꾼', 'bloggerlink': 'blog.naver.com/mismtch20236', 'postdate': '20250928'}, {'title': '국가전산망 <b>화재</b>, 보증기간 10년 넘긴 배터리에서 발생', 'link': 'https://blog.naver.com/powerit1004/224024732353', 'description': 'https://n.news.naver.com/article/020/0003664239?sid=102', 'bloggername': '한국전력에너지신문KOREA POWER ENERGY PLATFORM', 'bloggerlink': 'blog.naver.com/powerit1004', 'postdate': '20250928'}, {'title': '화성용접공사 흑관각파이프 구조물용접 제작', 'link': 'https://blog.naver.com/gear9cp/224024731834', 'description': '둘째, 작업 공간은 <b>화재</b>의 위험이 없도록 청결하게 유지해야 합니다. 또한, 젖은 천과 소화기를 가까이 두어야 합니다. 셋째, 통풍이 잘 되는 장소에서 용접 작업을 시행해야 하며, 불필요한 유해 물질이... ', 'bloggername': '빛나는 날들', 'bloggerlink': 'blog.naver.com/gear9cp', 'postdate': '20250928'}, {'title': '국정보자원관리원 <b>화재</b>, 여야 네탓하며 정쟁화로 이어지다.', 'link': 'https://blog.naver.com/nogray53/224024731354', 'description': '국가정보자원관리원 <b>화재</b>, 여야 정쟁으로 번지다 1. 사건 개요 9월 28일 대전 국가정보자원관리원에서 발생한 <b>화재</b> 현장을 국회 행정안전위원회 소속 여야 의원들이 함께 방문했습니다. 이번 사고로 인해 국가... ', 'bloggername': 'nogray53님의 블로그', 'bloggerlink': 'blog.naver.com/nogray53', 'postdate': '20250928'}, {'title': '국정자원 <b>화재</b>로 정부24 포함 647개 시스템 마비｜원인은... ', 'link': 'https://blog.naver.com/hoshea1/224024731791', 'description': '국정자원 <b>화재</b>로 정부24 포함 647개 시스템 마비｜원인은 다름 아닌 리튬배터리 지난 9월 27일... 국가정보자원관리원(국정자원) 대전센터에서 발생한 <b>화재</b>로 인해 정부24, 홈택스, 무역·민원 서비스까지 무려... ', 'bloggername': '호세아의 보물창고', 'bloggerlink': 'blog.naver.com/hoshea1', 'postdate': '20250928'}, {'title': '포항시, 국가정보자원관리원 <b>화재</b>에 긴급 대책회의…행정 공백... ', 'link': 'https://blog.naver.com/kbcd2008/224024731906', 'description': '국가정보자원관리원 <b>화재</b>로 인해 정부와 지자체의 주요 행정정보시스템 일부가 중단되자, 시민 불편을 줄이기 위한 긴급 대책회의를 27일 개최하고 전 부서 긴급 대응체계 가동에 들어갔다. 이번 <b>화재</b>는 민원... ', 'bloggername': '웹플러스뉴스앵커On', 'bloggerlink': 'blog.naver.com/kbcd2008', 'postdate': '20250928'}, {'title': '국가정보자원관리원 <b>화재</b>, 우체국 택배 조회, 금융거래 서비스... ', 'link': 'https://blog.naver.com/newinfo365/224024731639', 'description': '최근 국가정보자원관리원에서 <b>화재</b>가 발생해 우체국 택배 조회나 금융거래 서비스 이용에 불편을... 여기서 바로 확인하세요 우체국 서비스 장애 대처법 <b>화재</b>로 인한 국가정보자원관리원 장애 상황... ', 'bloggername': '세상이야기', 'bloggerlink': 'blog.naver.com/newinfo365', 'postdate': '20250928'}, {'title': '거실 바닥 토퍼 우리아이 꿀잠템으로 사용하는 이것', 'link': 'https://blog.naver.com/lyw5559/224024730932', 'description': '국내 가정용 토퍼 중 <b>화재</b>에도 안전한 난연성 친환경 소재를 사용해서 캠핑 가시는 분들도 항상 들고 가시더라고요! 점점 부풀어 오르는 바닥 매트리스 토퍼. 3D입체 봉제로 코즈코즈만의 독자기술인... ', 'bloggername': '☕ 집에서 즐기는 살림 한 스푼', 'bloggerlink': 'blog.naver.com/lyw5559', 'postdate': '20250928'}, {'title': '익일 금융회사 내점 업무 못 볼 수 있다(ft.재산세 납부기한 연장)', 'link': 'https://blog.naver.com/xuenxu/224024729951', 'description': '금요일 국자원의 <b>화재</b>로 오늘까지도 비대면 관련 업무들이 원활하지 않은 상태인데요. 긴 연휴를... *관련 기사 아래 링크 클릭 기사에 따르면~ [국가정보자원관리원 <b>화재</b>사고로 정부 업무 시스템이 마비되면서... ', 'bloggername': '재테크의 여왕 슈엔슈', 'bloggerlink': 'blog.naver.com/xuenxu', 'postdate': '20250928'}, {'title': '일반인이 AI와 챗GPT를 사용할 때 마주하는 모든 문제와... ', 'link': 'https://blog.naver.com/lli0101/224024729665', 'description': '예를 들어 “2025년 9월 27일 우체국 전산망 <b>화재</b>로 복구 현황은?”이라고 물었을 때, AI는 그 시점의 뉴스를 모르고 과거 사례만 답할 수 있습니다. 따라서 최신 정보가 필요한 경우에는 반드시 공식 기관... ', 'bloggername': '암,원적외선,치매,건강,AI', 'bloggerlink': 'blog.naver.com/lli0101', 'postdate': '20250928'}, {'title': '양주 찜질방 가스 폭발…28명 부상, 왜 이런 일이 반복될까', 'link': 'https://blog.naver.com/dltldnr9999/224024730267', 'description': '#양주찜질방 #찜질방폭발 #가스폭발사고 #LPG사고 #다중이용시설안전 #<b>화재</b>예방 #사고소식 #사회이슈 #안전불감증 #중상사고 #찜질방안전 #부상사건 #사건사고 #긴급뉴스 #대한민국안전 #시설점검 #소방대응... ', 'bloggername': '테크앤이슈', 'bloggerlink': 'blog.naver.com/dltldnr9999', 'postdate': '20250928'}, {'title': '정성홈케어의 전북 고창 농가주택 <b>화재</b> 청소 이야기', 'link': 'https://blog.naver.com/1aplus/224024729248', 'description': '시골 농가주택에서 <b>화재</b>가 발생했는데 청소가 가능하냐는 문의였습니다. 상담을 진행하니 고객님은 일반 입주청소나 이사청소 비용 수준으로 <b>화재</b>청소가 가능할 거라 생각하고 계셨습니다. 하지만 <b>화재</b>청소는... ', 'bloggername': '정성홈케어', 'bloggerlink': 'blog.naver.com/1aplus', 'postdate': '20250928'}, {'title': '포항시시설관리공단, 북구청사 「2025년 합동소방훈련」실시', 'link': 'https://blog.naver.com/pseun0626/224024728900', 'description': '을지연습과 연계한 이번 훈련은 적기 공습에 따른 공습경보 발령을 시작으로 공무원, 문<b>화재</b>단 및 이용 시민 등 총 200여 명이 참가한 가운데 진행되었다. 먼저 적의 공습에서 북구청사 건물의 부분 파괴와 <b>화재</b>... ', 'bloggername': '세니의 일기장', 'bloggerlink': 'blog.naver.com/pseun0626', 'postdate': '20250928'}, {'title': '국정자원 전산실 <b>화재</b>, IT 안전불감증이 불러온 대규모 마비 사태', 'link': 'https://blog.naver.com/onestepiyo/224024728043', 'description': '국정자원 전산실 <b>화재</b>, IT 안전불감증이 불러온 대규모 마비 상태 2025년 9월 26일 저녁, 대전 유성구... 전산망 <b>화재</b> , 왜? 전산실 내 UPS(무정전 전원장치) 리튬이온 배터리의 지하 이전 작업이 사고의... ', 'bloggername': '퍼니모의 블로그', 'bloggerlink': 'blog.naver.com/onestepiyo', 'postdate': '20250928'}, {'title': '[사마귀: 살인자의 외출 8화 결말 해석] &quot;누구의 희생 없이는... ', 'link': 'https://blog.naver.com/poet0010/224024728047', 'description': '시각적 연출: 교회 <b>화재</b> 장면과 클로즈업 숏은 긴장감을 극대화하며, 변영주 감독의 감각이 돋보입니다. &quot;누가 그녀에게 돌을 던지겠는가&quot; 정이신의 비극적 선택은 비난받아 마땅하지만, 동시에 사회가 방치한... ', 'bloggername': 'Miscellaneous thoughts', 'bloggerlink': 'blog.naver.com/poet0010', 'postdate': '20250928'}, {'title': \"국자원 <b>화재</b> 미국정보갤러리'서버실은 불탈 수 없다 13가지... \", 'link': 'https://blog.naver.com/s520228/224024728250', 'description': '있고, <b>화재</b> 감지기가 달려 있어서 약간의 탄내 같은 연속 가스가 나와도 자동으로 작동해서 밀폐된... 초기 <b>화재</b> 발생 시에 하나가 불이 붙을 수는 있어도 연쇄적으로 여러 개의 서버가 또는 배터리가 불타는... ', 'bloggername': '김성수신학연구회', 'bloggerlink': 'blog.naver.com/s520228', 'postdate': '20250928'}, {'title': '보험금 분쟁 시 알아둬야 할 필수정보! 손해사정사... ', 'link': 'https://blog.naver.com/life40plus/224024728342', 'description': '<b>화재</b>보험, 재산보험, 배상책임보험 등도 모두 포함됩니다. **선임기한 연장**: 보험사에 독립손해사정사 선임을 요청할 수 있는 기한도 기존 3영업일에서 10영업일로 대폭 늘렸습니다. 충분한 시간을 가지고... ', 'bloggername': '40대 성장연구소', 'bloggerlink': 'blog.naver.com/life40plus', 'postdate': '20250928'}, {'title': '주말10만원대 서울경기근교 가평글램핑캠핑장추천... ', 'link': 'https://blog.naver.com/bae__u/224024728582', 'description': '위에 <b>화재</b>경보기가 있는데 요리하다가 연기가 나니 바로 울려서 당황했어요 ㅋㅋ 침착하게 버튼 눌러서 끄긴 했습니닷 펜션에 뒤지지않는 주방구비품목들이에요 전자레인지, 미니냉장고, 밥솥, 수저 4인세트... ', 'bloggername': '잉잉이의 감사일기✍⋆*', 'bloggerlink': 'blog.naver.com/bae__u', 'postdate': '20250928'}, {'title': '코스피·코스닥 핵심 일정·IPO·정책·전산망 <b>화재</b> 테마 총정리', 'link': 'https://blog.naver.com/djddfamily/224024726976', 'description': '이번 주 총평 &amp; 전략 코멘트 국가 전산망 <b>화재</b> · 중국 무비자 · 명인제약 상장 사이버보안·BMS... 이번 주 핵심 일정 Top 5 1) 국가정보자원관리원 <b>화재</b> 사태(9/27) → 국가 전산망 647개 셧다운. 사이버보안... ', 'bloggername': '『헬머니의 머니식스팩』', 'bloggerlink': 'blog.naver.com/djddfamily', 'postdate': '20250928'}, {'title': '국가정보 자원관리원 <b>화재</b>', 'link': 'https://blog.naver.com/tlsdmlths2804/224024727264', 'description': '✍️복있는 사람 블로그 참고.', 'bloggername': '부활의 기쁨과 능력으로...', 'bloggerlink': 'blog.naver.com/tlsdmlths2804', 'postdate': '20250928'}, {'title': '국자원 <b>화재</b> 미정갤 폭탄 글, 난리났다/&quot;서버실은 불탈 수... ', 'link': 'https://blog.naver.com/ngks5362/224024727731', 'description': '국자원 <b>화재</b> 미정갤 폭탄 글, 난리났다/&quot;서버실은 불탈 수 없다, 13가지 의문점&quot; 강신업TV 구독자 53.9만명 조회수 7,878회 2025. 9. 28. https://youtu.be/virPMHuFE5w 스크립트 스크립트를 보면서... ', 'bloggername': 'ngks5362님의 블로그', 'bloggerlink': 'blog.naver.com/ngks5362', 'postdate': '20250928'}, {'title': '부산동구범일동전기수리 범일동전기누전수리... ', 'link': 'https://blog.naver.com/er6789012/224024726136', 'description': \"단순히 '불이 들어오게' 하는 것이 아니라, <b>화재</b>와 감전 사고를 완벽하게 예방하는 것이 전기 공사의... 때 <b>화재</b> 위험 부위 전선 제거 및 안전 배선 교체, 과부하 원인 진단 및 해결  전기 시설 증설/교체... \", 'bloggername': '착한전기 010-9125-5208 전기누전수리 전기고장수리1', 'bloggerlink': 'blog.naver.com/er6789012', 'postdate': '20250928'}, {'title': '생명보험 vs 손해보험: 당신의 미래를 지키는 보험, 뭘 골라야... ', 'link': 'https://blog.naver.com/jiyulpapa_/224015426506', 'description': '자동차 사고, <b>화재</b>, 도난 등 생활 속 다양한 위험을 커버하죠. 실생활에서 자주 부딪히는 문제를 해결하는 데 유용합니다. 손해보험의 주요 상품 자동차보험: 교통사고로 인한 차량 파손, 부상 등을 보장.  <b>화재</b>보... ', 'bloggername': '보험이 궁금할때..찾아보는 블로그[더블유에셋]', 'bloggerlink': 'blog.naver.com/jiyulpapa_', 'postdate': '20250928'}, {'title': '위반건축물 양성화, 경매시장에 어떤 영향을 줄까?', 'link': 'https://blog.naver.com/danji2023/224023795593', 'description': '대상 규모: 단독·다가구, 다세대 주택, 일부 근린생활시설 등 일정 규모 이하 안전 요건: 구조·<b>화재</b>·위생 기준 충족해야 함 이행강제금: 체납이 없거나 납부 이력이 양호해야 함 한시적 유예: 일정 기간 내... ', 'bloggername': 'danji2023님의 블로그', 'bloggerlink': 'blog.naver.com/danji2023', 'postdate': '20250928'}, {'title': '[공유] 국가정보센터 <b>화재</b> 100퍼 윤석열 탓', 'link': 'https://blog.naver.com/ultracharm/224024726121', 'description': 'https://youtube.com/watch?v=N9tng6l-oyI&amp;feature=shared', 'bloggername': '자유인의 나라 복음 이야기', 'bloggerlink': 'blog.naver.com/ultracharm', 'postdate': '20250928'}, {'title': '국가정보자원관리원 <b>화재</b>, 어떤 관점으로 바라봐야할까(feat.... ', 'link': 'https://blog.naver.com/ju_ta_ni/224024726494', 'description': \"수많은 뉴스가 있지만 이중화가 핵심적인 내용이 아닐까 합니다 &quot; &quot; AI 트래픽 폭증 대비…'통신 고속도로' 용량 4배로 늘린다 기사내용에 따르면 이달중 국가백본망 증설 발표가 있습니다 증설에는 여러... \", 'bloggername': '주타니의 무의식적 지식을 향한 성장일지', 'bloggerlink': 'blog.naver.com/ju_ta_ni', 'postdate': '20250928'}, {'title': '내구연한 초과 배터리 384개, 국가정보자원관리원 <b>화재</b>의 그림자', 'link': 'https://blog.naver.com/sunhoo272/224024723655', 'description': '<b>화재</b> 현장의 그림자: 내구연한 초과 배터리 국가정보자원관리원 <b>화재</b> 현장에서 발견된 384개의 리튬이온 배터리가 모두 내구연한을 초과한 상태였음이 YTN 취재 결과 밝혀졌습니다. 2014년 8월에 설치되어... ', 'bloggername': 'BBC 미디어센터', 'bloggerlink': 'blog.naver.com/sunhoo272', 'postdate': '20250928'}, {'title': '전산망 셧다운: 국가정보원 <b>화재</b>가 드러낸 취약점은?', 'link': 'https://blog.naver.com/sun02vv/224024726804', 'description': '국가의 핵심이라 할 수 있는 국가정보원에서 <b>화재</b>가 발생했고 그 여파로 전국 곳곳의 전산망이... 국가정보원에서 <b>화재</b>가 발생한 것은 밤시간이었고요 밤늦은 시간 민원 서비스가 먹통이라는 소식이 tv속보를... ', 'bloggername': '더커피멜로우의 수익블로그', 'bloggerlink': 'blog.naver.com/sun02vv', 'postdate': '20250928'}, {'title': '안산파크푸르지오 아파트 근처 목살 맛집... ', 'link': 'https://blog.naver.com/3vgw6owuwgj/224023026433', 'description': '삼성<b>화재</b>안산 / 안산삼성<b>화재</b> / 현대해상안산사옥 / 힐스테이트중앙 / 힐스테이트중앙아파트 / 힐스테이트중앙안산 / 안산센트럴푸르지오 / 성포주공4단지 / 안산프라움시티 / 안산줌시티... ', 'bloggername': '드림캐치러브', 'bloggerlink': 'blog.naver.com/3vgw6owuwgj', 'postdate': '20250928'}, {'title': '국자원 <b>화재</b> 미정갤 폭탄 글, 난리났다/&quot;서버실은 불탈 수... ', 'link': 'https://blog.naver.com/jkby1/224024726474', 'description': '국자원 <b>화재</b> 미정갤 폭탄 글, 난리났다/&quot;서버실은 불탈 수 없다, 13가지 의문점&quot; 강신업TV', 'bloggername': 'Here Rise The Another Sun', 'bloggerlink': 'blog.naver.com/jkby1', 'postdate': '20250928'}, {'title': '24.코스피 고배당주 순위 1~50위', 'link': 'https://blog.naver.com/pinkddlife/224024725362', 'description': '금융3(삼성<b>화재</b>. 대신증권. JB금융). 케이카. 한국철강. 리츠 3. 금융4(동양생명. 우리금융지주. NH투자. 삼성카드). 하나투어. 한국쉘석유 리츠 1. 금융8(BNK지주. 유화/대신/한양/삼성/부국 증권.... ', 'bloggername': '투자 성장일기', 'bloggerlink': 'blog.naver.com/pinkddlife', 'postdate': '20250928'}, {'title': '도림동 캡스 CCTV 설치 캡스비용 캡스렌탈 캡스문의... ', 'link': 'https://blog.naver.com/epneciirow39345/224024725766', 'description': 'ADT캡스의 전문 보안 시스템은 CCTV나 간이 경보기와 달리 최신 기술을 활용하여 침입 탐지, <b>화재</b> 감지, 비상 상황 대응 등 다양한 기능을 제공합니다. 이를 통해 위험 상황 발생 시 빠르고 효과적으로 대응할 수... ', 'bloggername': '무라카미의 꿈', 'bloggerlink': 'blog.naver.com/epneciirow39345', 'postdate': '20250928'}, {'title': '고용노동부 위클리 | 주간 소식 알리미 (09/22 ~ 09/28)... ', 'link': 'https://blog.naver.com/study_jacques/224024725360', 'description': '28 현재 고용노동부 홈페이지는 국가정보자원관리원 <b>화재</b>로 접속이 되지 않습니다. 초유의 사태라 하지 않을 수 없습니다. 노동위원회, 노동포털도 마찬가지입니다. 고용24... ', 'bloggername': '좀처럼 끝나지 않는 삶에 대하여', 'bloggerlink': 'blog.naver.com/study_jacques', 'postdate': '20250928'}, {'title': '주방후드 후드 교체 업체 비용 하츠 한샘', 'link': 'https://blog.naver.com/jibsuri_here/224024725538', 'description': '자동소화기는 불이 났을 때 화염을 감지하고 즉시 작동해 <b>화재</b>를 잡아주는 장치입니다. 따라서 교체 과정에서 절대 손상이 가면 안 되기 때문에, 작업 전부터 소화기 위치와 고정 상태를 꼼꼼히 확인했습니다.... ', 'bloggername': '공일공-7702-9695 집수리요기', 'bloggerlink': 'blog.naver.com/jibsuri_here', 'postdate': '20250928'}, {'title': '정부 데이터센터 <b>화재</b>! 647개 행정 시스템 마비…현재 복구... ', 'link': 'https://blog.naver.com/2001lhy/224024725943', 'description': '발생한 <b>화재</b>로 인해 647개 행정 시스템이 마비되는 초유의 사태가 발생했어요. 이번 사고는 국민 생활과 직결되는 각종 전자 행정 서비스에 영향을 주면서 큰 불편을 초래했는데요, 먼저, <b>화재</b>는 26일 오후 8시... ', 'bloggername': 'Love Yourself', 'bloggerlink': 'blog.naver.com/2001lhy', 'postdate': '20250928'}, {'title': '포천시엔진용접 병원 살균기 누수 보수와 오이도용접... ', 'link': 'https://blog.naver.com/circlefzx/224024725605', 'description': '각종 안전장비를 착용하지 않으면 <b>화재</b>나 전기 사고의 위험이 있습니다. 따라서 용접기술자들은 작업 전 철저한 안전교육을 받으며, 안전수칙을 준수하는 것이 필수적입니다. 또한 엔진용접 작업 현장에서는... ', 'bloggername': '달빛 아래에서', 'bloggerlink': 'blog.naver.com/circlefzx', 'postdate': '20250928'}, {'title': '17시 기준) 국가정보자원관리원 <b>화재</b> 관련 정부 시스템 일시... ', 'link': 'https://blog.naver.com/kidariblue/224024725492', 'description': \"('25.9.28. 17시 기준) 국가정보자원관리원 <b>화재</b> 관련 정부 시스템 일시 중단 안내 https://m.blog.naver.com/eunpyeonggu/224024707166\", 'bloggername': '키다리블루의 블로그', 'bloggerlink': 'blog.naver.com/kidariblue', 'postdate': '20250928'}, {'title': '국가정보자원관리원에서 발생한 <b>화재</b> 정산망 마비', 'link': 'https://blog.naver.com/fnfqjq/224024725714', 'description': '국가정보자원관리원에서 발생한 <b>화재</b> 2025년 9월 26일, 대전에 위치한 국가정보자원관리원에서 발생한 <b>화재</b>로 인해 정부의 주요 전산 서비스가 광범위하게 중단되는 사태가 발생했습니다. 이로 인해 약 647개의... ', 'bloggername': 'ㅇㅁㅅㄹㅎ', 'bloggerlink': 'blog.naver.com/fnfqjq', 'postdate': '20250928'}, {'title': '부천누수 원인별 정밀 탐지부터 완벽 복구까지의 실질적 접근... ', 'link': 'https://blog.naver.com/lovemesuya/224024725805', 'description': \"주택 소유자라면 가입된 <b>화재</b>보험이나 주택 관련 보험에 '누수 피해 보장 특약'이 포함되어 있는지 확인해 볼 필요가 있습니다. 보험 처리가 가능하다면, 업체 선정 시 보험 청구 절차에 익숙한 곳을 선택하여... \", 'bloggername': '일상, 여행, 맛집 위주 블로그', 'bloggerlink': 'blog.naver.com/lovemesuya', 'postdate': '20250928'}, {'title': '강남 대치동 씽크대뚫음 역류까지 한다면', 'link': 'https://blog.naver.com/wkddbtjd6486/224024724889', 'description': '벽이나 바닥 안쪽에 스며든 물은 곰팡이 발생, 구조물 부식, 심하면 전기 합선으로 인한 <b>화재</b> 위험까지 증가시킵니다. 또한, 배관이 막히면 하수 역류로 인해 위생 문제가 발생하고 악취가 나면서 거주 환경의... ', 'bloggername': '새콤달콤상콤', 'bloggerlink': 'blog.naver.com/wkddbtjd6486', 'postdate': '20250928'}, {'title': '25.09.28 일요일 국정자원 <b>화재</b> 관련', 'link': 'https://blog.naver.com/tazastock/224024723667', 'description': '주말 동안 발생한 <b>화재</b> 사건 관련해서 관련 종목들 체크를 해봅니다. ※ 공부 목적으로 올리는 글로... 대규모 <b>화재</b>로 번졌다. 전산장비 740대와 배터리 384대가 소실됐고, 이 불로 배터리 전원 차단... ', 'bloggername': '타점 읽어주는 여자', 'bloggerlink': 'blog.naver.com/tazastock', 'postdate': '20250928'}, {'title': '북아현동 캡스 CCTV 설치 캡스비용 캡스렌탈 캡스문의... ', 'link': 'https://blog.naver.com/epneciirow39345/224024724147', 'description': '공장이나 창고는 가치 있는 자산이나 재고가 많이 보관되어 있기 때문에 침입이나 <b>화재</b>와 같은 위험으로부터 보호받아야 합니다. 또한, 빌라는 주거지로서 안전이 최우선이기 때문에 신속하고 정확한 대응이... ', 'bloggername': '무라카미의 꿈', 'bloggerlink': 'blog.naver.com/epneciirow39345', 'postdate': '20250928'}, {'title': '결로방지 페인트 셀프 시공 베란다 곰팡이 제거 방법... ', 'link': 'https://blog.naver.com/mydmyh/224024724268', 'description': '뛰어난 열안전성으로 <b>화재</b>에도 강한 소재라니! 융점이 높은 첨단 소재를 사용해서 고온에서도 안정적인 성능을 유지할 수 있다고 하네요. 이런 기능이 있다는 걸 알고 나니, 더욱 믿고 바를 수 있었어요! 마치며... ', 'bloggername': '마이달리 마이홈♥', 'bloggerlink': 'blog.naver.com/mydmyh', 'postdate': '20250928'}, {'title': '국정자원 <b>화재</b> 정부24 이용 불가.. 주민등록등본 발급... ', 'link': 'https://blog.naver.com/sih2036/224024723541', 'description': '국정자원 <b>화재</b> 정부24 이용 불가.. 주민등록등본 발급, 전입신고 등 이렇게 하세요 9월 26일 금요일 밤 발생한 국정자원(국가정보자원관리원) 전산센터 <b>화재</b>로 일부 정부 온라인 서비스와 내부 네트워크가... ', 'bloggername': '네네씨의 재테크 이야기', 'bloggerlink': 'blog.naver.com/sih2036', 'postdate': '20250928'}, {'title': '동정호의 도시 악양', 'link': 'https://blog.naver.com/jyh6996/224024723598', 'description': '35m의 3층누각인 岳阳楼가 있는데 당대인 716년 세워졌으나 청대말기 <b>화재</b>로 소실된 것을 1984년 복원했습니다 누각에서 바라보는 洞庭湖의 경치가 너무나 아름다워 많은시인들의 소잿거리가 되었는데 그중... ', 'bloggername': 'jyh6996님의블로그', 'bloggerlink': 'blog.naver.com/jyh6996', 'postdate': '20250928'}, {'title': '(25.9.28.) 나경원 의원 페이스북', 'link': 'https://blog.naver.com/nakw63/224024723303', 'description': '법무부가 국정자원관리원 <b>화재</b>와 출입국 심사는 무관하다며 중국인 무비자 입국을 예정대로... 실제로 국가정보자원관리원 전산망 <b>화재</b>로 주민등록 등·초본 등 국민 핵심 신원정보의 발급이 중단되고, 정부... ', 'bloggername': '나경원과 함께!', 'bloggerlink': 'blog.naver.com/nakw63', 'postdate': '20250928'}, {'title': '양촌역용접 온수배관크랙 야간수리했습니다', 'link': 'https://blog.naver.com/apologizeek/224024723451', 'description': '<b>화재</b> 진압기와 같은 안전 장비를 준비하고 사용법을 숙지해야 하며, <b>화재</b> 발생 시 대처 방법에 대한 교육을 받아야 합니다. 이러한 안전 수칙을 준수함으로써 양촌역용접을 포함한 모든 용접 작업을 보다... ', 'bloggername': '은하수 일기', 'bloggerlink': 'blog.naver.com/apologizeek', 'postdate': '20250928'}, {'title': 'LS산전 누전차단기 고감도 32GRhd 30A 알뜰정보입니다', 'link': 'https://blog.naver.com/pondiln/224024722770', 'description': '전기 <b>화재</b>나 누전으로 인한 사고를 예방해 줍니다. 2. 내구성 고온과 저온에서도 안정적인 성능을... A3: 작은 누전 전류도 감지하여 <b>화재</b>와 전기 사고를 예방할 수 있어, 특히 안전이 중요한 공간에서... ', 'bloggername': '카를카를✅', 'bloggerlink': 'blog.naver.com/pondiln', 'postdate': '20250928'}, {'title': '전북자치도, 국가정보자원관리원 <b>화재</b>에 ‘비상 대응체계’ 가동', 'link': 'https://blog.naver.com/ksg2028/224024722378', 'description': '정부 시스템 중단에 도민 불편 최소화 총력…20개 협업부서·전 시군 긴급 점검 국가정보관리원 <b>화재</b>에 따른 정보시스템 중단 사고 대책회의.(사진=전북자치도) 대전 국가정보자원관리원 전산실 <b>화재</b>로 전국... ', 'bloggername': '365타임즈', 'bloggerlink': 'blog.naver.com/ksg2028', 'postdate': '20250928'}, {'title': '2024학년도 밀양영화고의 기록 (한 해를 보내며)', 'link': 'https://blog.naver.com/gts1201/224024722064', 'description': '기숙사 <b>화재</b>대피 훈련 + 달밤 행사 밀양아리나 동국대 연기과 교수님 강연(2024.08.12.) 알맹이는 하나도... 연극영화전공 #각종학교 #밀양영화고대입 #별무리영화연극제 #밀양아리나 #기숙사<b>화재</b>대피훈련', 'bloggername': '리리네 하우스', 'bloggerlink': 'blog.naver.com/gts1201', 'postdate': '20250928'}, {'title': '[산책 단상] 극한까지 다다르면 꽃대가 올라온다', 'link': 'https://blog.naver.com/1hanlbuk/224024721127', 'description': '주말을 앞두고 일어난 국가정보자원관리원 <b>화재</b>로 당장 월요일부터 어떤 상황이 발생할 지 예측하기 어려운 상황에서 폰을 새로 바꾸기가 꺼려졌던 것도 한가지 요인이다. 접속 안되는 공공기관이 너무 많고... ', 'bloggername': '전주은 작가의 에듀서버 [배움 성장 충전소]', 'bloggerlink': 'blog.naver.com/1hanlbuk', 'postdate': '20250928'}, {'title': '[일본 교토] &quot;교토 뿌수기 3일차&quot; 탐방(2024.09.21.)', 'link': 'https://blog.naver.com/readtheclassic/224024721698', 'description': '중요문<b>화재</b>로 등재된 문<b>화재</b>라 유명하기도 한데, 진짜 특이하게도 난젠지의 삼문은 별도 비용을 내고 올라가 볼 수 있어요! 삼문으로 더 가까이 가보았습니다. 문의 크기가 가늠이 안되시나요? 그냥 좀 큰 문... ', 'bloggername': '심금서재 - 강독으로 읽는 고전', 'bloggerlink': 'blog.naver.com/readtheclassic', 'postdate': '20250928'}, {'title': '&quot;국가 전산실 <b>화재</b> 총정리&quot;', 'link': 'https://blog.naver.com/phonehouse_mc/224024721013', 'description': '2025년 9월 26일 (금) 국가 전산실 <b>화재</b> 2025년은 많은 사건사고가 발생했는데요. 유심 사태부터 해킹에 <b>화재</b>까지 그중에서도 이번에 국가 전산실 <b>화재</b> 제일 큰 문제입니다! 국가 전산실 <b>화재</b>에 대해서 한번... ', 'bloggername': '휴대폰하우스 모충점', 'bloggerlink': 'blog.naver.com/phonehouse_mc', 'postdate': '20250928'}, {'title': '삶의 흔적을 존중하는 곳, 고양유품정리 감동 후기', 'link': 'https://blog.naver.com/ji5vqoqv/224024720890', 'description': '마치 장인이 혼신의 힘을 다해 작품을 완성하듯, 고양유품정리는 고객의 만족을 위해 최선을 다합니다 폐기물 처리부터 맞춤형 솔루션까지, 토탈 케어 시스템 고양유품정리는 쓰레기집 청소, 폐기물 처리, <b>화재</b>... ', 'bloggername': '즐거운', 'bloggerlink': 'blog.naver.com/ji5vqoqv', 'postdate': '20250928'}, {'title': '침향효능 동의명가 이상벽 침향단 중장년활력 부모님선물 추천', 'link': 'https://blog.naver.com/arinluv/224024720476', 'description': '또 삼성<b>화재</b> 생산물 배상 책임보험에도 가입되어 있어서 혹시 모를 부분까지 대비가 되어 있다는 점이 안심이 되었어요. 동의명가를 사기 전에 이런 부분들을 꼼꼼히 체크할 수 있었던 게 좋았어요. 고급스러운... ', 'bloggername': '뽁짝뽁짝 별구름 log ☺︎', 'bloggerlink': 'blog.naver.com/arinluv', 'postdate': '20250928'}, {'title': '국가정보자원관리원 <b>화재</b>를 통해 알 수 있는 데이터 보호의... ', 'link': 'https://blog.naver.com/nablue05/224024720532', 'description': '그러나 최근 발생한 국가정보자원관리원 <b>화재</b> 사건은 서버 백업의 필요성을 다시 한 번 크게 일깨워주었습니다. 당시 <b>화재</b>로 인해 정부 주요 시스템까지 동시에 마비되는 초유의 사태가 벌어졌습니다. 단순히... ', 'bloggername': '안녕, 12폰트', 'bloggerlink': 'blog.naver.com/nablue05', 'postdate': '20250928'}, {'title': '블랙바디+오렌지시트 감성 BMW 430i 쿠페 중고차 추천', 'link': 'https://blog.naver.com/ktrtgirl/224024719614', 'description': '튜닝·침수·<b>화재</b>·렌트 無, 미세누유 無, 무사고 확인  주요옵션 19인치 더블 스포크 704M 휠 차선이탈 경보 시스템 후방 카메라 + 써라운드 뷰 헤드업 디스플레이 글라스 썬루프 하만카돈 오디오... ', 'bloggername': '친절한지윤씨', 'bloggerlink': 'blog.naver.com/ktrtgirl', 'postdate': '20250928'}, {'title': '2025년 6월', 'link': 'https://blog.naver.com/zzz000516/224024718621', 'description': '6월 10일 참 <b>화재</b>가 많았네요 안내문자 울리는데 너무 무서웠음. . . 그리고.. ㅋㄹㅋㄹㅋㄹㅋㅋㄹㄹㅋㄹㅋ 아 너무 웃기다 근무하는 중에 나에게 웃음을 준 RM 6월 11일 출근길부터 날씨가 좋아서 기분 좋았는데... ', 'bloggername': 'My Favorite Space', 'bloggerlink': 'blog.naver.com/zzz000516', 'postdate': '20250928'}, {'title': '신풍역용접 중장비크랙으로 보강보수하였습니다', 'link': 'https://blog.naver.com/otnewspaper/224024718215', 'description': '아크 용접이나 가스 용접과 같은 방법을 사용할 때는 <b>화재</b>의 위험성도 크기 때문에 신중해야 합니다. 또한, 환기와 적절한 작업 환경을 유지하는 것 역시 중요합니다. 신풍역용접에서도 안전은 가장 중요한... ', 'bloggername': '구름 한 조각의 기록', 'bloggerlink': 'blog.naver.com/otnewspaper', 'postdate': '20250928'}, {'title': '김병만 보험 절세일까 보험 사기일까? 전처 해명에 놀란 이유', 'link': 'https://blog.naver.com/monami1998/224024675910', 'description': '반대로 A씨는 “주택 마련 자금이었을 뿐이며 실제 종신보험은 4건뿐이고 나머지는 <b>화재</b>·자동차보험 같은 일반 보험”이라고 해명했습니다. 특히 많은 사람들을 놀라게 한 건 보험 수익자를 딸로 지정하고... ', 'bloggername': '생활꾼 언니의 생활 밀착 정보', 'bloggerlink': 'blog.naver.com/monami1998', 'postdate': '20250928'}]\n"
     ]
    }
   ],
   "source": [
    "naver_json = json.loads(response_body) # 문자열을 -> dict, list로 변환\n",
    "print(naver_json['total'])\n",
    "print(naver_json['items'])"
   ]
  },
  {
   "cell_type": "code",
   "execution_count": null,
   "id": "de7d2131",
   "metadata": {},
   "outputs": [],
   "source": [
    "total = naver_json['total']\n",
    "\n",
    "news_list = naver_json['items']\n",
    "naver_json\n",
    "\n",
    "#for i in range(len(news_list)):\n",
    "\n",
    "# 100개 까지만 저장중 total 만큼 저장해야됨\n",
    "with open('naver_crawling.json', 'w', encoding='utf-8') as f:\n",
    "    json.dump(news_list, f, ensure_ascii=False, indent = 4)    "
   ]
  },
  {
   "cell_type": "markdown",
   "id": "369f032f",
   "metadata": {},
   "source": [
    "-- 하나씩 dict넣는 예시 --\n",
    "data1 = {\"id\": 1, \"name\": \"Eddie\"}\n",
    "data2 = {\"id\": 2, \"name\": \"Alice\"}\n",
    "\n",
    "with open(\"test.jsonl\", \"w\", encoding=\"utf-8\") as f:\n",
    "    f.write(json.dumps(data1, ensure_ascii=False) + \"\\n\")\n",
    "    f.write(json.dumps(data2, ensure_ascii=False) + \"\\n\")"
   ]
  },
  {
   "cell_type": "markdown",
   "id": "f0bf6ba6",
   "metadata": {},
   "source": [
    "### 2. 서울 열린 데이터 광장에서 공공데이터를 검색해 '자유제안'을 크롤링하여 파일로 저장하는 프로그램을 작성하시오"
   ]
  },
  {
   "cell_type": "code",
   "execution_count": 85,
   "id": "ae6c851f",
   "metadata": {},
   "outputs": [],
   "source": [
    "import requests\n",
    "import json\n",
    "import xml.dom.minidom"
   ]
  },
  {
   "cell_type": "code",
   "execution_count": 66,
   "id": "4041e018",
   "metadata": {},
   "outputs": [],
   "source": [
    "key = '506d4e6e51736b64383150517a4264'"
   ]
  },
  {
   "cell_type": "code",
   "execution_count": 69,
   "id": "77906540",
   "metadata": {},
   "outputs": [],
   "source": [
    "start = 1\n",
    "end = 5\n",
    "\n",
    "base = 'http://openapi.seoul.go.kr:8088/'\n",
    "uri = '%s/xml/ChunmanFreeSuggestions/%d/%d' %(key, start, end)\n",
    "\n",
    "url = base+uri"
   ]
  },
  {
   "cell_type": "markdown",
   "id": "3d31020f",
   "metadata": {},
   "source": []
  },
  {
   "cell_type": "code",
   "execution_count": 72,
   "id": "e5cef920",
   "metadata": {},
   "outputs": [
    {
     "name": "stdout",
     "output_type": "stream",
     "text": [
      "b'<?xml version=\"1.0\" encoding=\"UTF-8\"?>\\n<ChunmanFreeSuggestions>\\n<list_total_count>18091</list_total_count>\\n<RESULT>\\n<CODE>INFO-000</CODE>\\n<MESSAGE>\\xec\\xa0\\x95\\xec\\x83\\x81 \\xec\\xb2\\x98\\xeb\\xa6\\xac\\xeb\\x90\\x98\\xec\\x97\\x88\\xec\\x8a\\xb5\\xeb\\x8b\\x88\\xeb\\x8b\\xa4</MESSAGE>\\n</RESULT>\\n<row>\\n<SN>200534</SN>\\n<TITLE>,\\xec\\x98\\xa4\\xec\\x84\\xb8\\xed\\x9b\\x88 \\xec\\x84\\x9c\\xec\\x9a\\xb8\\xec\\x8b\\x9c\\xec\\x9e\\xa5\\xeb\\x8b\\x98\\xea\\xbb\\x98</TITLE>\\n<CONTENT><![CDATA[https://idea.seoul.go.kr/front/freeSuggest/view.do?sn=200534]]></CONTENT>\\n<VOTE_SCORE>0</VOTE_SCORE>\\n<REG_DATE>2025-09-28 07:00:36.0</REG_DATE>\\n<VISIOIN_TXT>\\xeb\\xb6\\x80\\xec\\x84\\x9c\\xeb\\xaf\\xb8\\xec\\xa7\\x80\\xec\\xa0\\x95</VISIOIN_TXT>\\n<USER_COMMENT_CNT>0</USER_COMMENT_CNT>\\n<VOTE_CNT>0</VOTE_CNT>\\n<VOTE_DIS_CNT>0</VOTE_DIS_CNT>\\n<REPLY_YN>N</REPLY_YN>\\n</row>\\n<row>\\n<SN>200533</SN>\\n<TITLE>\\xeb\\xa7\\x88\\xed\\x8f\\xac\\xeb\\x8c\\x80\\xea\\xb5\\x90\\xea\\xb5\\xac\\xea\\xb0\\x84 \\xeb\\xb2\\x84\\xec\\x8a\\xa4\\xec\\xa0\\x84\\xec\\x9a\\xa9\\xec\\xb0\\xa8\\xeb\\xa1\\x9c \\xeb\\xa7\\x8c\\xeb\\x93\\x9c\\xeb\\x8a\\x94\\xea\\xb1\\xb0 \\xec\\xa0\\x9c\\xec\\x95\\x88 \\xeb\\x93\\x9c\\xeb\\xa6\\xbd\\xeb\\x8b\\x88\\xeb\\x8b\\xa4</TITLE>\\n<CONTENT><![CDATA[https://idea.seoul.go.kr/front/freeSuggest/view.do?sn=200533]]></CONTENT>\\n<VOTE_SCORE>0</VOTE_SCORE>\\n<REG_DATE>2025-09-28 02:40:41.0</REG_DATE>\\n<VISIOIN_TXT>\\xeb\\xb6\\x80\\xec\\x84\\x9c\\xeb\\xaf\\xb8\\xec\\xa7\\x80\\xec\\xa0\\x95</VISIOIN_TXT>\\n<USER_COMMENT_CNT>0</USER_COMMENT_CNT>\\n<VOTE_CNT>0</VOTE_CNT>\\n<VOTE_DIS_CNT>0</VOTE_DIS_CNT>\\n<REPLY_YN>N</REPLY_YN>\\n</row>\\n<row>\\n<SN>200532</SN>\\n<TITLE>[\\xec\\x8b\\x9c\\xeb\\xaf\\xbc \\xea\\xb7\\x9c\\xec\\xa0\\x9c\\xeb\\xb0\\x9c\\xea\\xb5\\xb4\\xeb\\x8b\\xa8] \\xec\\x84\\x9c\\xec\\x9a\\xb8\\xec\\x8b\\x9c \\xec\\xa7\\x80\\xec\\x97\\xad\\xec\\x95\\x84\\xeb\\x8f\\x99\\xec\\x84\\xbc\\xed\\x84\\xb0 \\xec\\x9e\\x85\\xec\\x86\\x8c \\xec\\xa1\\xb0\\xea\\xb1\\xb4 \\xeb\\xb0\\x8f \\xec\\xa0\\x88\\xec\\xb0\\xa8 \\xea\\xb0\\x9c\\xec\\x84\\xa0 \\xec\\xa0\\x9c\\xec\\x95\\x88</TITLE>\\n<CONTENT><![CDATA[https://idea.seoul.go.kr/front/freeSuggest/view.do?sn=200532]]></CONTENT>\\n<VOTE_SCORE>0</VOTE_SCORE>\\n<REG_DATE>2025-09-27 14:55:02.0</REG_DATE>\\n<VISIOIN_TXT>\\xeb\\xb6\\x80\\xec\\x84\\x9c\\xeb\\xaf\\xb8\\xec\\xa7\\x80\\xec\\xa0\\x95</VISIOIN_TXT>\\n<USER_COMMENT_CNT>0</USER_COMMENT_CNT>\\n<VOTE_CNT>0</VOTE_CNT>\\n<VOTE_DIS_CNT>0</VOTE_DIS_CNT>\\n<REPLY_YN>N</REPLY_YN>\\n</row>\\n<row>\\n<SN>200531</SN>\\n<TITLE>\\xec\\x84\\x9c\\xec\\x9a\\xb8\\xec\\x8b\\x9c \\xeb\\xa7\\x88\\xec\\x9d\\x84\\xeb\\xb2\\x84\\xec\\x8a\\xa4\\xec\\x9d\\x98 \\xeb\\x8c\\x80\\xec\\xa4\\x91\\xea\\xb5\\x90\\xed\\x86\\xb5 \\xed\\x99\\x98\\xec\\x8a\\xb9 \\xed\\x98\\x9c\\xed\\x83\\x9d \\xeb\\xb3\\xb5\\xea\\xb5\\xac \\xeb\\xb6\\x80\\xed\\x83\\x81 \\xec\\xa0\\x9c\\xec\\x95\\x88</TITLE>\\n<CONTENT><![CDATA[https://idea.seoul.go.kr/front/freeSuggest/view.do?sn=200531]]></CONTENT>\\n<VOTE_SCORE>5</VOTE_SCORE>\\n<REG_DATE>2025-09-26 23:37:46.0</REG_DATE>\\n<VISIOIN_TXT>\\xeb\\xb6\\x80\\xec\\x84\\x9c\\xeb\\xaf\\xb8\\xec\\xa7\\x80\\xec\\xa0\\x95</VISIOIN_TXT>\\n<USER_COMMENT_CNT>0</USER_COMMENT_CNT>\\n<VOTE_CNT>5</VOTE_CNT>\\n<VOTE_DIS_CNT>1</VOTE_DIS_CNT>\\n<REPLY_YN>N</REPLY_YN>\\n</row>\\n<row>\\n<SN>200530</SN>\\n<TITLE>\\xec\\xa0\\x81\\xea\\xb7\\xb9\\xea\\xb3\\xb5\\xea\\xb0\\x90\\xed\\x95\\xa9\\xeb\\x8b\\x88\\xeb\\x8b\\xa4</TITLE>\\n<CONTENT><![CDATA[https://idea.seoul.go.kr/front/freeSuggest/view.do?sn=200530]]></CONTENT>\\n<VOTE_SCORE>0</VOTE_SCORE>\\n<REG_DATE>2025-09-26 23:26:16.0</REG_DATE>\\n<VISIOIN_TXT>\\xeb\\xb6\\x80\\xec\\x84\\x9c\\xeb\\xaf\\xb8\\xec\\xa7\\x80\\xec\\xa0\\x95</VISIOIN_TXT>\\n<USER_COMMENT_CNT>0</USER_COMMENT_CNT>\\n<VOTE_CNT>0</VOTE_CNT>\\n<VOTE_DIS_CNT>0</VOTE_DIS_CNT>\\n<REPLY_YN>N</REPLY_YN>\\n</row>\\n</ChunmanFreeSuggestions>\\n'\n"
     ]
    }
   ],
   "source": [
    "response = requests.get(url)\n",
    "print(response.content)"
   ]
  },
  {
   "cell_type": "code",
   "execution_count": 86,
   "id": "3f165b09",
   "metadata": {},
   "outputs": [],
   "source": [
    "response_decode = response.content.decode('utf-8')\n",
    "\n",
    "# 문자열 → DOM 객체\n",
    "dom = xml.dom.minidom.parseString(response_decode)\n",
    "\n",
    "# 예쁘게 정렬된 문자열 (indent 적용됨)\n",
    "pretty_xml = dom.toprettyxml(indent=\"    \")\n",
    "\n",
    "with open('seoul_data.xml', 'w', encoding='utf-8') as f:\n",
    "    f.write(pretty_xml)"
   ]
  },
  {
   "cell_type": "markdown",
   "id": "a5e29529",
   "metadata": {},
   "source": [
    "### 3. 안전한 자전거 사용을 위해 자전거 사고 지역에 대한 안래를 제공하려고 한다. 자전거 사고 발생 지역에 대한 정보를 크롤링하여 csv파일에 저장하고 시각화하는 프로그램을 작성하시오."
   ]
  },
  {
   "cell_type": "markdown",
   "id": "0321390e",
   "metadata": {},
   "source": [
    "공공데이터포털 에러로 인해 한국도로교통공단 api로 대체하였음"
   ]
  },
  {
   "cell_type": "code",
   "execution_count": 115,
   "id": "206a2e42",
   "metadata": {},
   "outputs": [],
   "source": [
    "key = 'x1JO3xmZcf8XKZkHfgB%2Bv1SvcJ8EInFR8fVoq5t0G8RQjcsB5DsfojItUZIXGamf'"
   ]
  },
  {
   "cell_type": "code",
   "execution_count": null,
   "id": "08ee73c6",
   "metadata": {},
   "outputs": [],
   "source": [
    "year = 2024\n",
    "\n",
    "base = 'https://opendata.koroad.or.kr/data/'\n",
    "uri = 'rest/frequentzone/bicycle?authkey=%s&searchYearCd=%d' %(key, year)\n",
    "\n",
    "url = base+uri"
   ]
  },
  {
   "cell_type": "code",
   "execution_count": 111,
   "id": "644d6bcf",
   "metadata": {},
   "outputs": [],
   "source": [
    "response = requests.get(url)"
   ]
  },
  {
   "cell_type": "code",
   "execution_count": 128,
   "id": "076536bc",
   "metadata": {},
   "outputs": [
    {
     "name": "stdout",
     "output_type": "stream",
     "text": [
      "https://opendata.koroad.or.kr/data/rest/frequentzone/bicycle?authKey=x1JO3xmZcf8XKZkHfgB%2Bv1SvcJ8EInFR8fVoq5t0G8RQjcsB5DsfojItUZIXGamf&searchYearCd=2024&siDo=11&guGun=680&type=json&numOfRows=10&pageNo=1\n",
      "{'resultCode': '00', 'resultMsg': 'NORMAL_CODE', 'items': {'item': [{'afos_fid': 7125591, 'afos_id': '2025081', 'bjd_cd': '1168011000', 'spot_cd': '11680001', 'sido_sgg_nm': '서울 강남구1', 'spot_nm': '서울 강남구 압구정동(압구정그래피티 부근)', 'occrrnc_cnt': 4, 'caslt_cnt': 6, 'dth_dnv_cnt': 0, 'se_dnv_cnt': 5, 'sl_dnv_cnt': 1, 'wnd_dnv_cnt': 0, 'geom_json': '{\"type\":\"Polygon\",\"coordinates\":[[[127.04445169,37.53104189],[127.04441717,37.53076276],[127.04431493,37.53049435],[127.0441489,37.53024698],[127.04392547,37.53003016],[127.04365321,37.52985222],[127.0433426,37.52972],[127.04300557,37.52963858],[127.04265506,37.52961108],[127.04230456,37.52963858],[127.04196752,37.52972],[127.04165691,37.52985222],[127.04138465,37.53003016],[127.04116122,37.53024698],[127.04099519,37.53049435],[127.04089295,37.53076276],[127.04085843,37.53104189],[127.04089295,37.53132102],[127.04099519,37.53158943],[127.04116122,37.53183679],[127.04138465,37.53205361],[127.04165691,37.53223154],[127.04196752,37.53236376],[127.04230456,37.53244518],[127.04265506,37.53247267],[127.04300557,37.53244518],[127.0433426,37.53236376],[127.04365321,37.53223154],[127.04392547,37.53205361],[127.0441489,37.53183679],[127.04431493,37.53158943],[127.04441717,37.53132102],[127.04445169,37.53104189]]]}', 'lo_crd': '127.042655060316', 'la_crd': '37.531272211617'}, {'afos_fid': 7125467, 'afos_id': '2025081', 'bjd_cd': '1168010700', 'spot_cd': '11680002', 'sido_sgg_nm': '서울 강남구2', 'spot_nm': '서울 강남구 신사동(487-1 부근)', 'occrrnc_cnt': 4, 'caslt_cnt': 5, 'dth_dnv_cnt': 0, 'se_dnv_cnt': 3, 'sl_dnv_cnt': 2, 'wnd_dnv_cnt': 0, 'geom_json': '{\"type\":\"Polygon\",\"coordinates\":[[[127.0179121,37.52557314],[127.01787758,37.52529399],[127.01777534,37.52502556],[127.01760931,37.52477817],[127.01738588,37.52456134],[127.01711362,37.52438338],[127.01680301,37.52425115],[127.01646597,37.52416972],[127.01611547,37.52414223],[127.01576496,37.52416972],[127.01542793,37.52425115],[127.01511731,37.52438338],[127.01484506,37.52456134],[127.01462162,37.52477817],[127.0144556,37.52502556],[127.01435336,37.52529399],[127.01431884,37.52557314],[127.01435336,37.5258523],[127.0144556,37.52612072],[127.01462162,37.5263681],[127.01484506,37.52658493],[127.01511731,37.52676288],[127.01542793,37.52689511],[127.01576496,37.52697653],[127.01611547,37.52700403],[127.01646597,37.52697653],[127.01680301,37.52689511],[127.01711362,37.52676288],[127.01738588,37.52658493],[127.01760931,37.5263681],[127.01777534,37.52612072],[127.01787758,37.5258523],[127.0179121,37.52557314]]]}', 'lo_crd': '127.016115467131', 'la_crd': '37.525803395016'}, {'afos_fid': 7125560, 'afos_id': '2025081', 'bjd_cd': '1168010600', 'spot_cd': '11680003', 'sido_sgg_nm': '서울 강남구3', 'spot_nm': '서울 강남구 대치동(강남보선약국 부근)', 'occrrnc_cnt': 4, 'caslt_cnt': 4, 'dth_dnv_cnt': 0, 'se_dnv_cnt': 2, 'sl_dnv_cnt': 1, 'wnd_dnv_cnt': 1, 'geom_json': '{\"type\":\"Polygon\",\"coordinates\":[[[127.06425878,37.49899747],[127.06422426,37.49871821],[127.06412202,37.49844969],[127.06395599,37.49820221],[127.06373256,37.4979853],[127.0634603,37.49780728],[127.06314969,37.497675],[127.06281265,37.49759354],[127.06246215,37.49756604],[127.06211164,37.49759354],[127.06177461,37.497675],[127.06146399,37.49780728],[127.06119174,37.4979853],[127.0609683,37.49820221],[127.06080228,37.49844969],[127.06070004,37.49871821],[127.06066552,37.49899747],[127.06070004,37.49927672],[127.06080228,37.49954524],[127.0609683,37.49979271],[127.06119174,37.50000962],[127.06146399,37.50018763],[127.06177461,37.50031991],[127.06211164,37.50040136],[127.06246215,37.50042887],[127.06281265,37.50040136],[127.06314969,37.50031991],[127.0634603,37.50018763],[127.06373256,37.50000962],[127.06395599,37.49979271],[127.06412202,37.49954524],[127.06422426,37.49927672],[127.06425878,37.49899747]]]}', 'lo_crd': '127.062462146556', 'la_crd': '37.499227382769'}, {'afos_fid': 7125575, 'afos_id': '2025081', 'bjd_cd': '1168010100', 'spot_cd': '11680004', 'sido_sgg_nm': '서울 강남구4', 'spot_nm': '서울 강남구 역삼동(역삼초교교차로 부근)', 'occrrnc_cnt': 3, 'caslt_cnt': 3, 'dth_dnv_cnt': 1, 'se_dnv_cnt': 0, 'sl_dnv_cnt': 1, 'wnd_dnv_cnt': 1, 'geom_json': '{\"type\":\"Polygon\",\"coordinates\":[[[127.03535108,37.49299655],[127.03531656,37.49271727],[127.03521432,37.49244873],[127.03504829,37.49220123],[127.03482486,37.4919843],[127.0345526,37.49180627],[127.03424199,37.49167398],[127.03390495,37.49159252],[127.03355445,37.49156501],[127.03320394,37.49159252],[127.03286691,37.49167398],[127.03255629,37.49180627],[127.03228404,37.4919843],[127.0320606,37.49220123],[127.03189458,37.49244873],[127.03179234,37.49271727],[127.03175782,37.49299655],[127.03179234,37.49327583],[127.03189458,37.49354437],[127.0320606,37.49379186],[127.03228404,37.49400879],[127.03255629,37.49418682],[127.03286691,37.4943191],[127.03320394,37.49440056],[127.03355445,37.49442807],[127.03390495,37.49440056],[127.03424199,37.4943191],[127.0345526,37.49418682],[127.03482486,37.49400879],[127.03504829,37.49379186],[127.03521432,37.49354437],[127.03531656,37.49327583],[127.03535108,37.49299655]]]}', 'lo_crd': '127.033554448520', 'la_crd': '37.493226392664'}]}, 'totalCount': 4, 'numOfRows': 4, 'pageNo': 1}\n"
     ]
    }
   ],
   "source": [
    "year = int(input(\"사고 년도 조회: \"))\n",
    "siDo = int(input(\"시 코드: \"))\n",
    "guGun = int(input('군/구 코드:'))\n",
    "\n",
    "\n",
    "\n",
    "base = \"https://opendata.koroad.or.kr/data/rest/frequentzone/bicycle\"\n",
    "\n",
    "# params가 인코딩 해주기 떄문에 이중인코딩 문제 발생\n",
    "params = {\n",
    "    \"authKey\": 'x1JO3xmZcf8XKZkHfgB+v1SvcJ8EInFR8fVoq5t0G8RQjcsB5DsfojItUZIXGamf',  # 반드시 원본 키\n",
    "    \"searchYearCd\": year if year is not None else 2024,\n",
    "    \"siDo\": siDo,       # 서울\n",
    "    \"guGun\": guGun,     # 강남구\n",
    "    \"type\": \"json\",\n",
    "    \"numOfRows\": 10,\n",
    "    \"pageNo\": 1\n",
    "}\n",
    "\n",
    "\n",
    "response = requests.get(base, params=params)\n",
    "print(response.url)  # 실제 요청 URL 확인\n",
    "print(response.json())\n",
    "\n",
    "response_dict = response.json()"
   ]
  },
  {
   "cell_type": "code",
   "execution_count": 138,
   "id": "29b32870",
   "metadata": {},
   "outputs": [
    {
     "name": "stdout",
     "output_type": "stream",
     "text": [
      "resultCode 00\n",
      "resultMsg NORMAL_CODE\n",
      "items {'item': [{'afos_fid': 7125591, 'afos_id': '2025081', 'bjd_cd': '1168011000', 'spot_cd': '11680001', 'sido_sgg_nm': '서울 강남구1', 'spot_nm': '서울 강남구 압구정동(압구정그래피티 부근)', 'occrrnc_cnt': 4, 'caslt_cnt': 6, 'dth_dnv_cnt': 0, 'se_dnv_cnt': 5, 'sl_dnv_cnt': 1, 'wnd_dnv_cnt': 0, 'geom_json': '{\"type\":\"Polygon\",\"coordinates\":[[[127.04445169,37.53104189],[127.04441717,37.53076276],[127.04431493,37.53049435],[127.0441489,37.53024698],[127.04392547,37.53003016],[127.04365321,37.52985222],[127.0433426,37.52972],[127.04300557,37.52963858],[127.04265506,37.52961108],[127.04230456,37.52963858],[127.04196752,37.52972],[127.04165691,37.52985222],[127.04138465,37.53003016],[127.04116122,37.53024698],[127.04099519,37.53049435],[127.04089295,37.53076276],[127.04085843,37.53104189],[127.04089295,37.53132102],[127.04099519,37.53158943],[127.04116122,37.53183679],[127.04138465,37.53205361],[127.04165691,37.53223154],[127.04196752,37.53236376],[127.04230456,37.53244518],[127.04265506,37.53247267],[127.04300557,37.53244518],[127.0433426,37.53236376],[127.04365321,37.53223154],[127.04392547,37.53205361],[127.0441489,37.53183679],[127.04431493,37.53158943],[127.04441717,37.53132102],[127.04445169,37.53104189]]]}', 'lo_crd': '127.042655060316', 'la_crd': '37.531272211617'}, {'afos_fid': 7125467, 'afos_id': '2025081', 'bjd_cd': '1168010700', 'spot_cd': '11680002', 'sido_sgg_nm': '서울 강남구2', 'spot_nm': '서울 강남구 신사동(487-1 부근)', 'occrrnc_cnt': 4, 'caslt_cnt': 5, 'dth_dnv_cnt': 0, 'se_dnv_cnt': 3, 'sl_dnv_cnt': 2, 'wnd_dnv_cnt': 0, 'geom_json': '{\"type\":\"Polygon\",\"coordinates\":[[[127.0179121,37.52557314],[127.01787758,37.52529399],[127.01777534,37.52502556],[127.01760931,37.52477817],[127.01738588,37.52456134],[127.01711362,37.52438338],[127.01680301,37.52425115],[127.01646597,37.52416972],[127.01611547,37.52414223],[127.01576496,37.52416972],[127.01542793,37.52425115],[127.01511731,37.52438338],[127.01484506,37.52456134],[127.01462162,37.52477817],[127.0144556,37.52502556],[127.01435336,37.52529399],[127.01431884,37.52557314],[127.01435336,37.5258523],[127.0144556,37.52612072],[127.01462162,37.5263681],[127.01484506,37.52658493],[127.01511731,37.52676288],[127.01542793,37.52689511],[127.01576496,37.52697653],[127.01611547,37.52700403],[127.01646597,37.52697653],[127.01680301,37.52689511],[127.01711362,37.52676288],[127.01738588,37.52658493],[127.01760931,37.5263681],[127.01777534,37.52612072],[127.01787758,37.5258523],[127.0179121,37.52557314]]]}', 'lo_crd': '127.016115467131', 'la_crd': '37.525803395016'}, {'afos_fid': 7125560, 'afos_id': '2025081', 'bjd_cd': '1168010600', 'spot_cd': '11680003', 'sido_sgg_nm': '서울 강남구3', 'spot_nm': '서울 강남구 대치동(강남보선약국 부근)', 'occrrnc_cnt': 4, 'caslt_cnt': 4, 'dth_dnv_cnt': 0, 'se_dnv_cnt': 2, 'sl_dnv_cnt': 1, 'wnd_dnv_cnt': 1, 'geom_json': '{\"type\":\"Polygon\",\"coordinates\":[[[127.06425878,37.49899747],[127.06422426,37.49871821],[127.06412202,37.49844969],[127.06395599,37.49820221],[127.06373256,37.4979853],[127.0634603,37.49780728],[127.06314969,37.497675],[127.06281265,37.49759354],[127.06246215,37.49756604],[127.06211164,37.49759354],[127.06177461,37.497675],[127.06146399,37.49780728],[127.06119174,37.4979853],[127.0609683,37.49820221],[127.06080228,37.49844969],[127.06070004,37.49871821],[127.06066552,37.49899747],[127.06070004,37.49927672],[127.06080228,37.49954524],[127.0609683,37.49979271],[127.06119174,37.50000962],[127.06146399,37.50018763],[127.06177461,37.50031991],[127.06211164,37.50040136],[127.06246215,37.50042887],[127.06281265,37.50040136],[127.06314969,37.50031991],[127.0634603,37.50018763],[127.06373256,37.50000962],[127.06395599,37.49979271],[127.06412202,37.49954524],[127.06422426,37.49927672],[127.06425878,37.49899747]]]}', 'lo_crd': '127.062462146556', 'la_crd': '37.499227382769'}, {'afos_fid': 7125575, 'afos_id': '2025081', 'bjd_cd': '1168010100', 'spot_cd': '11680004', 'sido_sgg_nm': '서울 강남구4', 'spot_nm': '서울 강남구 역삼동(역삼초교교차로 부근)', 'occrrnc_cnt': 3, 'caslt_cnt': 3, 'dth_dnv_cnt': 1, 'se_dnv_cnt': 0, 'sl_dnv_cnt': 1, 'wnd_dnv_cnt': 1, 'geom_json': '{\"type\":\"Polygon\",\"coordinates\":[[[127.03535108,37.49299655],[127.03531656,37.49271727],[127.03521432,37.49244873],[127.03504829,37.49220123],[127.03482486,37.4919843],[127.0345526,37.49180627],[127.03424199,37.49167398],[127.03390495,37.49159252],[127.03355445,37.49156501],[127.03320394,37.49159252],[127.03286691,37.49167398],[127.03255629,37.49180627],[127.03228404,37.4919843],[127.0320606,37.49220123],[127.03189458,37.49244873],[127.03179234,37.49271727],[127.03175782,37.49299655],[127.03179234,37.49327583],[127.03189458,37.49354437],[127.0320606,37.49379186],[127.03228404,37.49400879],[127.03255629,37.49418682],[127.03286691,37.4943191],[127.03320394,37.49440056],[127.03355445,37.49442807],[127.03390495,37.49440056],[127.03424199,37.4943191],[127.0345526,37.49418682],[127.03482486,37.49400879],[127.03504829,37.49379186],[127.03521432,37.49354437],[127.03531656,37.49327583],[127.03535108,37.49299655]]]}', 'lo_crd': '127.033554448520', 'la_crd': '37.493226392664'}]}\n",
      "totalCount 4\n",
      "numOfRows 4\n",
      "pageNo 1\n"
     ]
    }
   ],
   "source": [
    "for key, value in response_dict.items():\n",
    "    print(key, value)"
   ]
  },
  {
   "cell_type": "markdown",
   "id": "bae663a0",
   "metadata": {},
   "source": [
    "### 4. 지역별 전기차의 충전기 수요 분석을 하려고 한다. 공공데이터포털의 오픈 api를 이용하여 지역별 전기 충전소 충전량 데이터와 지역별 전기차 충전수 개수 데이터를 크롤링하고 csv파일로 저장하는 프로그램을 작성하시오.\n",
    "\n",
    "- 한국전력공사_전기차 충전소 설치현황\n",
    "- 한국전력공사_전기차 충전소 충전량"
   ]
  },
  {
   "cell_type": "code",
   "execution_count": null,
   "id": "8627b8a4",
   "metadata": {},
   "outputs": [],
   "source": []
  },
  {
   "cell_type": "markdown",
   "id": "e5487ffa",
   "metadata": {},
   "source": []
  }
 ],
 "metadata": {
  "kernelspec": {
   "display_name": ".venv",
   "language": "python",
   "name": "python3"
  },
  "language_info": {
   "codemirror_mode": {
    "name": "ipython",
    "version": 3
   },
   "file_extension": ".py",
   "mimetype": "text/x-python",
   "name": "python",
   "nbconvert_exporter": "python",
   "pygments_lexer": "ipython3",
   "version": "3.11.13"
  }
 },
 "nbformat": 4,
 "nbformat_minor": 5
}
