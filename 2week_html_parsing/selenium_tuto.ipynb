{
 "cells": [
  {
   "cell_type": "code",
   "execution_count": 33,
   "id": "6bec20d6",
   "metadata": {},
   "outputs": [],
   "source": [
    "from selenium import webdriver\n",
    "from bs4 import BeautifulSoup\n",
    "import time\n",
    "import pandas as pd"
   ]
  },
  {
   "cell_type": "markdown",
   "id": "487cad8f",
   "metadata": {},
   "source": []
  },
  {
   "cell_type": "code",
   "execution_count": null,
   "id": "563c4cdf",
   "metadata": {},
   "outputs": [
    {
     "name": "stderr",
     "output_type": "stream",
     "text": [
      "The chromedriver version (139.0.7258.154) detected in PATH at /usr/local/bin/chromedriver might not be compatible with the detected chrome version (140.0.7339.214); currently, chromedriver 140.0.7339.207 is recommended for chrome 140.*, so it is advised to delete the driver in PATH and retry\n"
     ]
    }
   ],
   "source": [
    "# 알아서 실행\n",
    "wd = webdriver.Chrome()"
   ]
  },
  {
   "cell_type": "code",
   "execution_count": 3,
   "id": "8ae2b8a4",
   "metadata": {},
   "outputs": [],
   "source": [
    "wd.get(\"http://www.hanbit.co.kr\")"
   ]
  },
  {
   "cell_type": "code",
   "execution_count": 9,
   "id": "f7cee9ee",
   "metadata": {},
   "outputs": [],
   "source": [
    "wd.get(\"https://www.coffeebeankorea.com/store/store.asp\")"
   ]
  },
  {
   "cell_type": "code",
   "execution_count": null,
   "id": "8424f142",
   "metadata": {},
   "outputs": [],
   "source": [
    "# 테스트\n",
    "wd.execute_script(\"storePop2(363)\")"
   ]
  },
  {
   "cell_type": "code",
   "execution_count": 11,
   "id": "58bec9b0",
   "metadata": {},
   "outputs": [],
   "source": [
    "html = wd.page_source"
   ]
  },
  {
   "cell_type": "code",
   "execution_count": 14,
   "id": "5b3ea26d",
   "metadata": {},
   "outputs": [],
   "source": [
    "soupCB1 = BeautifulSoup(html, 'html.parser')"
   ]
  },
  {
   "cell_type": "code",
   "execution_count": 16,
   "id": "8d0da2f0",
   "metadata": {},
   "outputs": [
    {
     "data": {
      "text/plain": [
       "[<h2>서초중앙로점</h2>]"
      ]
     },
     "execution_count": 16,
     "metadata": {},
     "output_type": "execute_result"
    }
   ],
   "source": [
    "store_name_h2 = soupCB1.select(\"div.store_txt > h2\")\n",
    "\n",
    "store_name_h2"
   ]
  },
  {
   "cell_type": "code",
   "execution_count": null,
   "id": "c0a014fc",
   "metadata": {},
   "outputs": [
    {
     "data": {
      "text/plain": [
       "'서초중앙로점'"
      ]
     },
     "execution_count": 19,
     "metadata": {},
     "output_type": "execute_result"
    }
   ],
   "source": [
    "#store_name = store_name_h2[0].string\n",
    "store_name = store_name.get_text()\n",
    "store_name"
   ]
  },
  {
   "cell_type": "code",
   "execution_count": 20,
   "id": "b8bec6db",
   "metadata": {},
   "outputs": [],
   "source": [
    "store_info = soupCB1.select(\"div.store_txt > table.store_table > tbody > tr > td\")"
   ]
  },
  {
   "cell_type": "code",
   "execution_count": 21,
   "id": "7af6ef8c",
   "metadata": {},
   "outputs": [
    {
     "data": {
      "text/plain": [
       "[<td>평일 07:00~22:00 | 토-일 07:30~22:00</td>,\n",
       " <td>주차 불가</td>,\n",
       " <td>서울시 서초구 서초중앙로 209, 해성빌딩 1층  <!--span class=\"lot\">(서울시 서초구 서초중앙로 209, 해성빌딩 1층)</span--></td>,\n",
       " <td>02-537-2992</td>]"
      ]
     },
     "execution_count": 21,
     "metadata": {},
     "output_type": "execute_result"
    }
   ],
   "source": [
    "store_info"
   ]
  },
  {
   "cell_type": "code",
   "execution_count": 22,
   "id": "14d43485",
   "metadata": {},
   "outputs": [],
   "source": [
    "store_address_list = list(store_info[2])"
   ]
  },
  {
   "cell_type": "code",
   "execution_count": 23,
   "id": "1cf48602",
   "metadata": {},
   "outputs": [
    {
     "data": {
      "text/plain": [
       "['서울시 서초구 서초중앙로 209, 해성빌딩 1층  ',\n",
       " 'span class=\"lot\">(서울시 서초구 서초중앙로 209, 해성빌딩 1층)</span']"
      ]
     },
     "execution_count": 23,
     "metadata": {},
     "output_type": "execute_result"
    }
   ],
   "source": [
    "store_address_list"
   ]
  },
  {
   "cell_type": "code",
   "execution_count": 24,
   "id": "98da23e0",
   "metadata": {},
   "outputs": [],
   "source": [
    "store_address = store_address_list[0]"
   ]
  },
  {
   "cell_type": "code",
   "execution_count": 25,
   "id": "cb253557",
   "metadata": {},
   "outputs": [
    {
     "data": {
      "text/plain": [
       "'서울시 서초구 서초중앙로 209, 해성빌딩 1층  '"
      ]
     },
     "execution_count": 25,
     "metadata": {},
     "output_type": "execute_result"
    }
   ],
   "source": [
    "store_address"
   ]
  },
  {
   "cell_type": "code",
   "execution_count": 26,
   "id": "ac92502f",
   "metadata": {},
   "outputs": [],
   "source": [
    "store_phone = store_info[3].string"
   ]
  },
  {
   "cell_type": "code",
   "execution_count": 27,
   "id": "50cbe74b",
   "metadata": {},
   "outputs": [
    {
     "data": {
      "text/plain": [
       "'02-537-2992'"
      ]
     },
     "execution_count": 27,
     "metadata": {},
     "output_type": "execute_result"
    }
   ],
   "source": [
    "store_phone"
   ]
  },
  {
   "cell_type": "markdown",
   "id": "291914eb",
   "metadata": {},
   "source": [
    "## 커피빈 매장 동적 실행"
   ]
  },
  {
   "cell_type": "code",
   "execution_count": null,
   "id": "0dba0b07",
   "metadata": {},
   "outputs": [],
   "source": [
    "def CoffeeBean_store(result):\n",
    "    CoffeeBean_URL = \"https://www.coffeebeankorea.com/store/store.asp\" # 주소\n",
    "    wd = webdriver.Chrome()\n",
    "    \n",
    "    for i in range(1, 211):\n",
    "        wd.get(CoffeeBean_URL)\n",
    "        time.sleep(1)\n",
    "        try:\n",
    "            wd.execute_script(\"storePop2(%d)\" %i) #주소 안에 자바 스크립트 실행\n",
    "            time.sleep(1)\n",
    "            html = wd.page_source\n",
    "            soupCB = BeautifulSoup(html, 'html.parser')\n",
    "            store_name_h2 = soupCB.select(\"div.store_txt > h2\")\n",
    "            store_name = store_name_h2[0].string\n",
    "            print(store_name, i)\n",
    "            store_info = soupCB.select(\"div.store_txt > table.store_table > tbody > tr > td \")\n",
    "            store_address_list = list(store_info[2])\n",
    "            store_address = store_address_list[0]\n",
    "            store_phone = store_info[3].string\n",
    "            result.append([store_name]+ [store_address] + [store_phone])\n",
    "        except:\n",
    "            continue\n",
    "    return  "
   ]
  },
  {
   "cell_type": "code",
   "execution_count": 38,
   "id": "78a48154",
   "metadata": {},
   "outputs": [],
   "source": [
    "def main():\n",
    "    result = []\n",
    "    print(\"커피빈 크롤링\")\n",
    "    CoffeeBean_store(result)\n",
    "    \n",
    "    CB_tbl = pd.DataFrame(result, columns = ('store', 'address', 'phone'))\n",
    "    CB_tbl.to_csv('coffeebean_store.csv', encoding = 'utf-8')\n",
    "    "
   ]
  },
  {
   "cell_type": "code",
   "execution_count": 39,
   "id": "522a4d12",
   "metadata": {},
   "outputs": [
    {
     "name": "stderr",
     "output_type": "stream",
     "text": [
      "The chromedriver version (139.0.7258.154) detected in PATH at /usr/local/bin/chromedriver might not be compatible with the detected chrome version (140.0.7339.214); currently, chromedriver 140.0.7339.207 is recommended for chrome 140.*, so it is advised to delete the driver in PATH and retry\n"
     ]
    },
    {
     "name": "stdout",
     "output_type": "stream",
     "text": [
      "커피빈 크롤링\n",
      "차병원점\n",
      "강남대로점\n",
      "청담에스점\n",
      "역삼점\n",
      "양재스포타임점\n",
      "청담성당점\n",
      "영동점\n",
      "도곡점\n",
      "영동고앞점\n",
      "압구정시티점\n",
      "서초우성점\n",
      "논현팍스타워점\n",
      "삼성오크우드점\n",
      "트레이드타워점\n",
      "삼성봉은사거리점\n",
      "서초지파이브점\n",
      "논현동수면센터점\n",
      "삼성전자강남사옥점\n",
      "삼성생명강남사옥점\n",
      "방배카페골목점\n",
      "역삼포스틸타워뒷점\n",
      "테헤란로하이닉스뒷점\n",
      "삼성봉은사로점\n",
      "방이점\n",
      "매봉역점\n",
      "남부터미널역점\n",
      "강남역랭기지타워점\n",
      "도심공항타워점\n",
      "청담카페점\n",
      "광화문점\n",
      "경희궁의아침점\n",
      "홍대역점\n",
      "순화점\n",
      "종로관철동점\n",
      "소공동삼화빌딩점\n",
      "강변테크노마트점\n",
      "외대앞점\n",
      "고대안암역점\n",
      "순화동라마다호텔점\n",
      "신촌점\n",
      "건대스타시티점\n",
      "하나은행경복궁역점\n",
      "서울스퀘어점\n",
      "목동점\n",
      "여의도교보증권점\n",
      "여의도순복음교회옆점\n",
      "일산웨스턴돔1호점\n",
      "분당차병원점\n",
      "분당수내점\n",
      "동탄라마다호텔점\n",
      "청주지웰시티점\n",
      "무교CBTL점\n",
      "국기원사거리점\n",
      "무교점\n",
      "남대문점\n",
      "대학로마로니에점\n",
      "인사점\n",
      "테헤란로비젼타워점\n",
      "서울대입구역점\n",
      "코엑스웨스틴서울점\n",
      "뉴압구정점\n",
      "디큐브시티점\n",
      "현대자동차여의도점\n",
      "선릉로93길점\n",
      "강남역먹자골목점\n",
      "삼성로점\n",
      "선릉로86길점\n",
      "뉴교보타워옆점\n",
      "상암SBS미디어센터점\n",
      "마리오아울렛점\n",
      "현대자동차남양연구소점\n",
      "서초뱅뱅사거리점\n",
      "현대자동차성내점\n",
      "수원인계점\n",
      "일산원마운트점\n",
      "남양연구소C1식당점\n",
      "여의도교보증권카페점\n",
      "압구정현대아파트점\n",
      "역삼역4번출구점\n",
      "부평문화의거리점\n",
      "강남대로센터점\n",
      "구로G-ValleyMall\n",
      "도심공항점\n",
      "타임스퀘어점\n",
      "차병원사거리점\n",
      "파르나스몰점\n",
      "광화문역1번출구점\n"
     ]
    }
   ],
   "source": [
    "if __name__ == '__main__':\n",
    "    main()"
   ]
  },
  {
   "cell_type": "code",
   "execution_count": 86,
   "id": "4db414ef",
   "metadata": {},
   "outputs": [],
   "source": [
    "# selenium이 너무 느리니 -> Fetch 사용\n",
    "\n",
    "import requests\n",
    "import json"
   ]
  },
  {
   "cell_type": "code",
   "execution_count": 78,
   "id": "3b256075",
   "metadata": {},
   "outputs": [],
   "source": [
    "url = \"https://www.coffeebeankorea.com/store/store_data2.asp\"  # 예시 엔드포인트\n",
    "\n",
    "params = {\"StoreNo\":142}\n"
   ]
  },
  {
   "cell_type": "code",
   "execution_count": 79,
   "id": "5e01a80a",
   "metadata": {},
   "outputs": [],
   "source": [
    "res = requests.get(url, params=params)"
   ]
  },
  {
   "cell_type": "code",
   "execution_count": 98,
   "id": "d6ba1851",
   "metadata": {},
   "outputs": [
    {
     "data": {
      "text/plain": [
       "\"[{  StoreNo : '142', StoreName : '코엑스웨스틴서울점', StoreTel : '02-569-3103', StoreAddress : '서울시 강남구 봉은사로 524 코엑스 인터컨티넨탈아케이드' , StoreOpendate : '평일 07:00~21:00ㅣ주말/공휴일 07:00~21:00' , StoreLAT : '37.5129451363', StoreLNG : '127.0571155943', StoreShortDesc : '주차불가<br/>', StoreEmail : 'cbk225@coffeebeankorea.com' , StoreDecaffeine : '1' , StoreSoymilk : '1', StoreWifi : '1', StoreParking : '0', Storesmoking : '0' , StoreEsmoking : '0' , StoreMachine : '0' , StoreCapsule : '0', StoreCake : '1', StoreDrive : '0', StoreDelivery : '0', StorePet : '0', StoreFood : '0', StoreHallCake : '0', Distant : '', sort : '1' , StoreImage1 : '1번_328.jpg', StoreImage2 : '', StoreImage3 : '2번_329.jpg', StoreImage4 : '3번_328.jpg', StoreImage5 : '4번_329.jpg' , StoreImage6 : '5번_321.jpg' }]\""
      ]
     },
     "execution_count": 98,
     "metadata": {},
     "output_type": "execute_result"
    }
   ],
   "source": [
    "arr = res.text\n",
    "arr"
   ]
  },
  {
   "cell_type": "code",
   "execution_count": 91,
   "id": "9de21eb4",
   "metadata": {},
   "outputs": [],
   "source": [
    "import pandas as pd"
   ]
  },
  {
   "cell_type": "code",
   "execution_count": 95,
   "id": "f5e26a8c",
   "metadata": {},
   "outputs": [
    {
     "data": {
      "text/plain": [
       "\"[{  StoreNo : '142', StoreName : '코엑스웨스틴서울점', StoreTel : '02-569-3103', StoreAddress : '서울시 강남구 봉은사로 524 코엑스 인터컨티넨탈아케이드' , StoreOpendate : '평일 07:00~21:00ㅣ주말/공휴일 07:00~21:00' , StoreLAT : '37.5129451363', StoreLNG : '127.0571155943', StoreShortDesc : '주차불가<br/>', StoreEmail : 'cbk225@coffeebeankorea.com' , StoreDecaffeine : '1' , StoreSoymilk : '1', StoreWifi : '1', StoreParking : '0', Storesmoking : '0' , StoreEsmoking : '0' , StoreMachine : '0' , StoreCapsule : '0', StoreCake : '1', StoreDrive : '0', StoreDelivery : '0', StorePet : '0', StoreFood : '0', StoreHallCake : '0', Distant : '', sort : '1' , StoreImage1 : '1번_328.jpg', StoreImage2 : '', StoreImage3 : '2번_329.jpg', StoreImage4 : '3번_328.jpg', StoreImage5 : '4번_329.jpg' , StoreImage6 : '5번_321.jpg' }]\""
      ]
     },
     "execution_count": 95,
     "metadata": {},
     "output_type": "execute_result"
    }
   ],
   "source": [
    "arr"
   ]
  },
  {
   "cell_type": "code",
   "execution_count": null,
   "id": "669ea7bd",
   "metadata": {},
   "outputs": [],
   "source": []
  }
 ],
 "metadata": {
  "kernelspec": {
   "display_name": ".venv",
   "language": "python",
   "name": "python3"
  },
  "language_info": {
   "codemirror_mode": {
    "name": "ipython",
    "version": 3
   },
   "file_extension": ".py",
   "mimetype": "text/x-python",
   "name": "python",
   "nbconvert_exporter": "python",
   "pygments_lexer": "ipython3",
   "version": "3.11.13"
  }
 },
 "nbformat": 4,
 "nbformat_minor": 5
}
