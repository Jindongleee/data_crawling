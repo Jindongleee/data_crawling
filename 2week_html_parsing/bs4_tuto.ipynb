{
 "cells": [
  {
   "cell_type": "markdown",
   "id": "96559a19",
   "metadata": {},
   "source": [
    "- 정적 -> bs4\n",
    "- 동적 -> selenium"
   ]
  },
  {
   "cell_type": "code",
   "execution_count": 1,
   "id": "f53a0458",
   "metadata": {},
   "outputs": [],
   "source": [
    "from bs4 import BeautifulSoup"
   ]
  },
  {
   "cell_type": "code",
   "execution_count": 2,
   "id": "6e0af6f1",
   "metadata": {},
   "outputs": [],
   "source": [
    "import requests"
   ]
  },
  {
   "cell_type": "code",
   "execution_count": 3,
   "id": "80d0565b",
   "metadata": {},
   "outputs": [],
   "source": [
    "url = \"http://localhost:5500/test.html\""
   ]
  },
  {
   "cell_type": "code",
   "execution_count": 4,
   "id": "e5cff1ea",
   "metadata": {},
   "outputs": [],
   "source": [
    "html = \"\"\"\n",
    "<h1 id = \"title\">한빛출판네트워크\n",
    "</h1><div class = \"top\"><ul class = \"menu\">\n",
    "<li><a href = \"http://www.hanbit.co.kr/member/login.html\" class = \"login\">\n",
    "로그인</a><li></ul><ul class = \"brand\"><li><a href=\"http://www.hanbit.co.kr/media/\">\n",
    "한빛미디어</a></li><li><a href=\"http://www.hanbit.co.kr/academy/\">한빛아카데미</a></li></ul></div>\n",
    "\"\"\""
   ]
  },
  {
   "cell_type": "code",
   "execution_count": 5,
   "id": "4f04ac92",
   "metadata": {},
   "outputs": [],
   "source": [
    "# BeautifulSoup(문자열, 원하는 파싱)\n",
    "soup = BeautifulSoup(html, 'html.parser')"
   ]
  },
  {
   "cell_type": "code",
   "execution_count": 6,
   "id": "48af31a6",
   "metadata": {},
   "outputs": [
    {
     "name": "stdout",
     "output_type": "stream",
     "text": [
      "<h1 id=\"title\">\n",
      " 한빛출판네트워크\n",
      "</h1>\n",
      "<div class=\"top\">\n",
      " <ul class=\"menu\">\n",
      "  <li>\n",
      "   <a class=\"login\" href=\"http://www.hanbit.co.kr/member/login.html\">\n",
      "    로그인\n",
      "   </a>\n",
      "   <li>\n",
      "   </li>\n",
      "  </li>\n",
      " </ul>\n",
      " <ul class=\"brand\">\n",
      "  <li>\n",
      "   <a href=\"http://www.hanbit.co.kr/media/\">\n",
      "    한빛미디어\n",
      "   </a>\n",
      "  </li>\n",
      "  <li>\n",
      "   <a href=\"http://www.hanbit.co.kr/academy/\">\n",
      "    한빛아카데미\n",
      "   </a>\n",
      "  </li>\n",
      " </ul>\n",
      "</div>\n",
      "\n"
     ]
    }
   ],
   "source": [
    "print(soup.prettify())"
   ]
  },
  {
   "cell_type": "code",
   "execution_count": 7,
   "id": "cf938718",
   "metadata": {},
   "outputs": [
    {
     "name": "stdout",
     "output_type": "stream",
     "text": [
      "<h1 id=\"title\">한빛출판네트워크\n",
      "</h1>\n"
     ]
    },
    {
     "data": {
      "text/plain": [
       "<h1 id=\"title\">한빛출판네트워크\n",
       "</h1>"
      ]
     },
     "execution_count": 7,
     "metadata": {},
     "output_type": "execute_result"
    }
   ],
   "source": [
    "# head 가져오기\n",
    "print(soup.h1)\n",
    "\n",
    "tag_h1 = soup.h1\n",
    "\n",
    "tag_h1"
   ]
  },
  {
   "cell_type": "code",
   "execution_count": 8,
   "id": "263843e2",
   "metadata": {},
   "outputs": [
    {
     "data": {
      "text/plain": [
       "<li><a class=\"login\" href=\"http://www.hanbit.co.kr/member/login.html\">\n",
       "로그인</a><li></li></li>"
      ]
     },
     "execution_count": 8,
     "metadata": {},
     "output_type": "execute_result"
    }
   ],
   "source": [
    "# html 깊게 들어가기\n",
    "tag_div = soup.div.li\n",
    "\n",
    "tag_div"
   ]
  },
  {
   "cell_type": "code",
   "execution_count": 9,
   "id": "f7845908",
   "metadata": {},
   "outputs": [
    {
     "name": "stdout",
     "output_type": "stream",
     "text": [
      "<ul class=\"menu\">\n",
      "<li><a class=\"login\" href=\"http://www.hanbit.co.kr/member/login.html\">\n",
      "로그인</a><li></li></li></ul>\n",
      "-------------\n",
      "[<ul class=\"menu\">\n",
      "<li><a class=\"login\" href=\"http://www.hanbit.co.kr/member/login.html\">\n",
      "로그인</a><li></li></li></ul>, <ul class=\"brand\"><li><a href=\"http://www.hanbit.co.kr/media/\">\n",
      "한빛미디어</a></li><li><a href=\"http://www.hanbit.co.kr/academy/\">한빛아카데미</a></li></ul>]\n",
      "-------------\n",
      "<class 'bs4.element.ResultSet'>\n",
      "-------------\n",
      "<ul class=\"menu\">\n",
      "<li><a class=\"login\" href=\"http://www.hanbit.co.kr/member/login.html\">\n",
      "로그인</a><li></li></li></ul>\n",
      "-------------\n",
      "<ul class=\"brand\"><li><a href=\"http://www.hanbit.co.kr/media/\">\n",
      "한빛미디어</a></li><li><a href=\"http://www.hanbit.co.kr/academy/\">한빛아카데미</a></li></ul>\n"
     ]
    }
   ],
   "source": [
    "# 첫번째만 가져옴\n",
    "tag_ul = soup.ul\n",
    "\n",
    "print(tag_ul)\n",
    "\n",
    "print(\"-------------\")\n",
    "\n",
    "# 모든 ul 태그 가져오기 -> list 형태로 제공\n",
    "tag_all_ul = soup.find_all('ul')\n",
    "\n",
    "print(tag_all_ul)\n",
    "print(\"-------------\")\n",
    "\n",
    "print(type(tag_all_ul))\n",
    "print(\"-------------\")\n",
    "\n",
    "print(tag_all_ul[0])\n",
    "print(\"-------------\")\n",
    "\n",
    "print(tag_all_ul[1])"
   ]
  },
  {
   "cell_type": "markdown",
   "id": "abfc933e",
   "metadata": {},
   "source": [
    "# 태그의 속성을 이용하여 파싱\n",
    "\n",
    "arrtrs -> 해당 태그의 속성과 속성 값을 딕셔너리로\n",
    "find(태그, 해당 태그의 속성) -> 태그가 없이 모든 속성을 가지고 싶을떄 태그 빼기\n",
    "select()-> 지정한 태그를 모두 파싱하여 리스트 구현\n"
   ]
  },
  {
   "cell_type": "code",
   "execution_count": 10,
   "id": "e111e6e9",
   "metadata": {},
   "outputs": [
    {
     "data": {
      "text/plain": [
       "{'class': ['menu']}"
      ]
     },
     "execution_count": 10,
     "metadata": {},
     "output_type": "execute_result"
    }
   ],
   "source": [
    "# 딕셔너리로 뽑기 attrs -> 속성 = key, 속성 값 = value\n",
    "tag_ul.attrs"
   ]
  },
  {
   "cell_type": "code",
   "execution_count": 11,
   "id": "31ead9b4",
   "metadata": {},
   "outputs": [
    {
     "name": "stdout",
     "output_type": "stream",
     "text": [
      "['menu']\n"
     ]
    }
   ],
   "source": [
    "print(tag_ul['class'])"
   ]
  },
  {
   "cell_type": "code",
   "execution_count": 20,
   "id": "812c1090",
   "metadata": {},
   "outputs": [
    {
     "data": {
      "text/plain": [
       "[<ul class=\"menu\">\n",
       " <li><a class=\"login\" href=\"http://www.hanbit.co.kr/member/login.html\">\n",
       " 로그인</a><li></li></li></ul>,\n",
       " <ul class=\"brand\"><li><a href=\"http://www.hanbit.co.kr/media/\">\n",
       " 한빛미디어</a></li><li><a href=\"http://www.hanbit.co.kr/academy/\">한빛아카데미</a></li></ul>]"
      ]
     },
     "execution_count": 20,
     "metadata": {},
     "output_type": "execute_result"
    }
   ],
   "source": [
    "tag_ul = soup.find_all('ul')\n",
    "\n",
    "tag_ul"
   ]
  },
  {
   "cell_type": "code",
   "execution_count": 24,
   "id": "38d2b1a2",
   "metadata": {},
   "outputs": [
    {
     "data": {
      "text/plain": [
       "<ul class=\"brand\"><li><a href=\"http://www.hanbit.co.kr/media/\">\n",
       "한빛미디어</a></li><li><a href=\"http://www.hanbit.co.kr/academy/\">한빛아카데미</a></li></ul>"
      ]
     },
     "execution_count": 24,
     "metadata": {},
     "output_type": "execute_result"
    }
   ],
   "source": [
    "tag_ul_2 = soup.find('ul', attrs={'class':'brand'})\n",
    "\n",
    "tag_ul_2"
   ]
  },
  {
   "cell_type": "code",
   "execution_count": 26,
   "id": "50ddad08",
   "metadata": {},
   "outputs": [
    {
     "data": {
      "text/plain": [
       "<h1 id=\"title\">한빛출판네트워크\n",
       "</h1>"
      ]
     },
     "execution_count": 26,
     "metadata": {},
     "output_type": "execute_result"
    }
   ],
   "source": [
    "title = soup.find(id=\"title\")\n",
    "title"
   ]
  },
  {
   "cell_type": "code",
   "execution_count": null,
   "id": "bbff32f2",
   "metadata": {},
   "outputs": [
    {
     "data": {
      "text/plain": [
       "'한빛출판네트워크\\n'"
      ]
     },
     "execution_count": 27,
     "metadata": {},
     "output_type": "execute_result"
    }
   ],
   "source": [
    "title.string"
   ]
  },
  {
   "cell_type": "code",
   "execution_count": null,
   "id": "202c8c7d",
   "metadata": {},
   "outputs": [
    {
     "data": {
      "text/plain": [
       "[<li><a href=\"http://www.hanbit.co.kr/media/\">\n",
       " 한빛미디어</a></li>,\n",
       " <li><a href=\"http://www.hanbit.co.kr/academy/\">한빛아카데미</a></li>]"
      ]
     },
     "execution_count": 35,
     "metadata": {},
     "output_type": "execute_result"
    }
   ],
   "source": [
    "# 상위 태그 > 하위태그, ul.brand의 brand id 혹은 속성값\n",
    "# id = 고유값\n",
    "# class = 여러 요소에 적용되는 공통 속성\n",
    "li_list = soup.select(\"div > ul.brand > li\")\n",
    "li_list"
   ]
  },
  {
   "cell_type": "code",
   "execution_count": 36,
   "id": "f5aed7fc",
   "metadata": {},
   "outputs": [
    {
     "name": "stdout",
     "output_type": "stream",
     "text": [
      "\n",
      "한빛미디어\n",
      "한빛아카데미\n"
     ]
    }
   ],
   "source": [
    "# 결국 원하는 문자열\n",
    "for li in li_list:\n",
    "    print(li.string)"
   ]
  },
  {
   "cell_type": "code",
   "execution_count": 4,
   "id": "f45afd38",
   "metadata": {},
   "outputs": [],
   "source": [
    "res = requests.get(url)"
   ]
  },
  {
   "cell_type": "markdown",
   "id": "0ae57dc1",
   "metadata": {},
   "source": []
  },
  {
   "cell_type": "code",
   "execution_count": 5,
   "id": "809470ed",
   "metadata": {},
   "outputs": [
    {
     "name": "stdout",
     "output_type": "stream",
     "text": [
      "200\n",
      "2599\n"
     ]
    }
   ],
   "source": [
    "print(res.status_code)\n",
    "print(len(res.text))"
   ]
  },
  {
   "cell_type": "code",
   "execution_count": 6,
   "id": "23b9ced1",
   "metadata": {},
   "outputs": [],
   "source": [
    "test = res.text.split(\"\\n\")"
   ]
  },
  {
   "cell_type": "code",
   "execution_count": 7,
   "id": "63729143",
   "metadata": {},
   "outputs": [
    {
     "name": "stdout",
     "output_type": "stream",
     "text": [
      "<!DOCTYPE html>\n",
      "<html lang=\"ko\">\n",
      "<head>\n",
      "    <meta charset=\"UTF-8\">\n",
      "    <title>BS4 테스트 페이지</title>\n",
      "</head>\n",
      "<body>\n",
      "    <header>\n",
      "        <h1>BeautifulSoup 테스트</h1>\n",
      "        <nav>\n",
      "            <ul>\n",
      "                <li><a href=\"/home\">홈</a></li>\n",
      "                <li><a href=\"/about\">소개</a></li>\n",
      "                <li><a href=\"/contact\">연락처</a></li>\n",
      "            </ul>\n",
      "        </nav>\n",
      "    </header>\n",
      "\n",
      "    <main>\n",
      "        <section id=\"articles\">\n",
      "            <article class=\"post\">\n",
      "                <h2>첫 번째 글</h2>\n",
      "                <p>이것은 첫 번째 테스트 글입니다.</p>\n",
      "                <a href=\"/post1\">더 보기</a>\n",
      "            </article>\n",
      "            <article class=\"post\">\n",
      "                <h2>두 번째 글</h2>\n",
      "                <p>두 번째 글 내용입니다. <strong>강조</strong>된 텍스트 포함.</p>\n",
      "                <a href=\"/post2\">더 보기</a>\n",
      "            </article>\n",
      "        </section>\n",
      "\n",
      "        <aside>\n",
      "            <h3>사이드바</h3>\n",
      "            <ul>\n",
      "                <li>공지사항</li>\n",
      "                <li>인기 글</li>\n",
      "                <li>태그 클라우드</li>\n",
      "            </ul>\n",
      "        </aside>\n",
      "    </main>\n",
      "\n",
      "    <footer>\n",
      "        <p>Copyright © 2025 TestSite</p>\n",
      "    </footer>\n",
      "<!-- Code injected by live-server -->\n",
      "<script>\n",
      "\t// <![CDATA[  <-- For SVG support\n",
      "\tif ('WebSocket' in window) {\n",
      "\t\t(function () {\n",
      "\t\t\tfunction refreshCSS() {\n",
      "\t\t\t\tvar sheets = [].slice.call(document.getElementsByTagName(\"link\"));\n",
      "\t\t\t\tvar head = document.getElementsByTagName(\"head\")[0];\n",
      "\t\t\t\tfor (var i = 0; i < sheets.length; ++i) {\n",
      "\t\t\t\t\tvar elem = sheets[i];\n",
      "\t\t\t\t\tvar parent = elem.parentElement || head;\n",
      "\t\t\t\t\tparent.removeChild(elem);\n",
      "\t\t\t\t\tvar rel = elem.rel;\n",
      "\t\t\t\t\tif (elem.href && typeof rel != \"string\" || rel.length == 0 || rel.toLowerCase() == \"stylesheet\") {\n",
      "\t\t\t\t\t\tvar url = elem.href.replace(/(&|\\?)_cacheOverride=\\d+/, '');\n",
      "\t\t\t\t\t\telem.href = url + (url.indexOf('?') >= 0 ? '&' : '?') + '_cacheOverride=' + (new Date().valueOf());\n",
      "\t\t\t\t\t}\n",
      "\t\t\t\t\tparent.appendChild(elem);\n",
      "\t\t\t\t}\n",
      "\t\t\t}\n",
      "\t\t\tvar protocol = window.location.protocol === 'http:' ? 'ws://' : 'wss://';\n",
      "\t\t\tvar address = protocol + window.location.host + window.location.pathname + '/ws';\n",
      "\t\t\tvar socket = new WebSocket(address);\n",
      "\t\t\tsocket.onmessage = function (msg) {\n",
      "\t\t\t\tif (msg.data == 'reload') window.location.reload();\n",
      "\t\t\t\telse if (msg.data == 'refreshcss') refreshCSS();\n",
      "\t\t\t};\n",
      "\t\t\tif (sessionStorage && !sessionStorage.getItem('IsThisFirstTime_Log_From_LiveServer')) {\n",
      "\t\t\t\tconsole.log('Live reload enabled.');\n",
      "\t\t\t\tsessionStorage.setItem('IsThisFirstTime_Log_From_LiveServer', true);\n",
      "\t\t\t}\n",
      "\t\t})();\n",
      "\t}\n",
      "\telse {\n",
      "\t\tconsole.error('Upgrade your browser. This Browser is NOT supported WebSocket for Live-Reloading.');\n",
      "\t}\n",
      "\t// ]]>\n",
      "</script>\n",
      "</body>\n",
      "</html>\n"
     ]
    }
   ],
   "source": [
    "for i in test:\n",
    "    print(i)"
   ]
  },
  {
   "cell_type": "code",
   "execution_count": 8,
   "id": "8e5bd0c9",
   "metadata": {},
   "outputs": [],
   "source": [
    "# BeautifulSoup은 파싱이지 가져오지 않음 -> requests해야됨\n",
    "soup = BeautifulSoup(res.text, \"html.parser\")"
   ]
  },
  {
   "cell_type": "code",
   "execution_count": 9,
   "id": "8bc9e670",
   "metadata": {},
   "outputs": [],
   "source": [
    "import re"
   ]
  },
  {
   "cell_type": "code",
   "execution_count": 10,
   "id": "cf159786",
   "metadata": {},
   "outputs": [
    {
     "data": {
      "text/plain": [
       "[]"
      ]
     },
     "execution_count": 10,
     "metadata": {},
     "output_type": "execute_result"
    }
   ],
   "source": [
    "# HTML 문서에서 모든 <a> 링크를 찾고\n",
    "# href 속성이 특정 패턴과 일치하는 것만 선택\n",
    "# re.compile() -> 정규식 , ^ = 문자열 시작, s? -> s가 있어도 되고 없어도 됨\n",
    "# 즉 https or http로 시작하는 a링크를 모두 가져옴\n",
    "soup.find_all(\"a\", href = re.compile(r\"^https?://\"))"
   ]
  },
  {
   "cell_type": "code",
   "execution_count": 11,
   "id": "bd36ad79",
   "metadata": {},
   "outputs": [],
   "source": [
    "# 배열처럼 사용 가능\n",
    "arr = soup.find_all(\"a\", href = re.compile(r\"^/\"))"
   ]
  },
  {
   "cell_type": "code",
   "execution_count": 12,
   "id": "de0f3c65",
   "metadata": {},
   "outputs": [
    {
     "data": {
      "text/plain": [
       "<a href=\"/home\">홈</a>"
      ]
     },
     "execution_count": 12,
     "metadata": {},
     "output_type": "execute_result"
    }
   ],
   "source": [
    "arr[0]"
   ]
  },
  {
   "cell_type": "code",
   "execution_count": null,
   "id": "e3c6d14f",
   "metadata": {},
   "outputs": [
    {
     "data": {
      "text/plain": [
       "<a href=\"/home\">홈</a>"
      ]
     },
     "execution_count": 14,
     "metadata": {},
     "output_type": "execute_result"
    }
   ],
   "source": [
    "# css 선택자를 사용해서 조건에 맞는 첫번째 요소만 가져오는 함수\n",
    "# css 선택자란 class 이름 or id\n",
    "soup.select_one(\"a\")"
   ]
  },
  {
   "cell_type": "code",
   "execution_count": null,
   "id": "dd6072c4",
   "metadata": {},
   "outputs": [],
   "source": []
  }
 ],
 "metadata": {
  "kernelspec": {
   "display_name": ".venv",
   "language": "python",
   "name": "python3"
  },
  "language_info": {
   "codemirror_mode": {
    "name": "ipython",
    "version": 3
   },
   "file_extension": ".py",
   "mimetype": "text/x-python",
   "name": "python",
   "nbconvert_exporter": "python",
   "pygments_lexer": "ipython3",
   "version": "3.11.13"
  }
 },
 "nbformat": 4,
 "nbformat_minor": 5
}
