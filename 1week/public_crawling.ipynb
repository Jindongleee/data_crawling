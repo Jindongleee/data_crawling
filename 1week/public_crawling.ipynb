{
 "cells": [
  {
   "cell_type": "code",
   "execution_count": null,
   "id": "4aad68f1",
   "metadata": {},
   "outputs": [],
   "source": [
    "key = 'ZGvYmsi4yifshynDqm0fN89tW3PT%2F6bwWgJKimuqSn%2BI3qIew%2BXTrJDgCwE7m8ASq%2BElizrpQrnh%2Bi%2FYz5zEFQ%3D%3D'\n",
    "normal_key = 'ZGvYmsi4yifshynDqm0fN89tW3PT/6bwWgJKimuqSn+I3qIew+XTrJDgCwE7m8ASq+ElizrpQrnh+i/Yz5zEFQ=='"
   ]
  },
  {
   "cell_type": "code",
   "execution_count": 22,
   "id": "248183d1",
   "metadata": {},
   "outputs": [],
   "source": [
    "import datetime\n",
    "import urllib.request\n",
    "import time\n",
    "import json\n",
    "import pandas as pd\n",
    "import matplotlib"
   ]
  },
  {
   "cell_type": "code",
   "execution_count": 23,
   "id": "6611508e",
   "metadata": {},
   "outputs": [],
   "source": [
    "\n",
    "def getRequestUrl(url):\n",
    "    req = urllib.request.Request(url)\n",
    "    try:\n",
    "        response = urllib.request.urlopen(req)\n",
    "        if response.getcode() == 200:\n",
    "            print(\"[%s] Url Request Success\" % datetime.datetime.now())\n",
    "            return response.read().decode('utf-8')\n",
    "    except Exception as e:\n",
    "        print(e)\n",
    "        print(\"[%s] Error for URL : %s \" % (datetime.datetime.now()),url )\n",
    "        return None"
   ]
  },
  {
   "cell_type": "code",
   "execution_count": 24,
   "id": "85877d78",
   "metadata": {},
   "outputs": [
    {
     "name": "stdout",
     "output_type": "stream",
     "text": [
      "http://openapi.tour.go.kr/openapi/service/EdrcntTourismStatsService/getEdrcntTourismStatsList?_type=json&serviceKey=ZGvYmsi4yifshynDqm0fN89tW3PT%2F6bwWgJKimuqSn%2BI3qIew%2BXTrJDgCwE7m8ASq%2BElizrpQrnh%2Bi%2FYz5zEFQ%3D%3D&YM=2017&NAT_CD=112&ED_CD=2024\n",
      "[2025-09-24 17:53:53.470333] Url Request Success\n",
      "{'header': {'resultCode': '0000', 'resultMsg': 'OK'}, 'body': {'items': '', 'numOfRows': 10, 'pageNo': 1, 'totalCount': 0}}\n"
     ]
    }
   ],
   "source": [
    "def getToursimStatsItem(yyyymm, nat_cd, ed_cd):\n",
    "    service_url = 'http://openapi.tour.go.kr/openapi/service/EdrcntTourismStatsService/getEdrcntTourismStatsList'\n",
    "    parameters = \"?_type=json&serviceKey=\"+key\n",
    "    parameters += \"&YM=\"+yyyymm\n",
    "    parameters += \"&NAT_CD=\" + nat_cd\n",
    "    parameters += \"&ED_CD=\"+ed_cd\n",
    "\n",
    "    url = service_url+parameters\n",
    "    print(url) #url 체크\n",
    "\n",
    "    responseDecode = getRequestUrl(url)\n",
    "\n",
    "    if responseDecode == None:\n",
    "        return None\n",
    "    else:\n",
    "        return json.loads(responseDecode)\n",
    "\n",
    "print(getToursimStatsItem('2017', '112', '2024')['response'])"
   ]
  },
  {
   "cell_type": "code",
   "execution_count": 33,
   "id": "830427a4",
   "metadata": {},
   "outputs": [],
   "source": [
    "# \n",
    "def getToursimStatsService(nat_cd, ed_cd, nStartYear, nEndYear):\n",
    "    jsonResult = []\n",
    "    result = []\n",
    "\n",
    "    natName = ''\n",
    "    dataEND = \"{0}{1:0>2}\".format(str(nEndYear), str(12))\n",
    "    isDataEnd = 0\n",
    "    for year in range(nStartYear, nEndYear+1):\n",
    "        for month in range(1,13):\n",
    "            if(isDataEnd == 1):\n",
    "                break\n",
    "            yyyymm = \"{0}{1:0>2}\".format(str(year), str(month))\n",
    "            jsonData = getToursimStatsItem(yyyymm, nat_cd, ed_cd)\n",
    "            if (jsonData['response']['header']['resultMsg'] == 'OK'):\n",
    "                if jsonData['response']['body']['items'] == '':\n",
    "                    isDataEnd = 1\n",
    "                    if (month - 1) == 0:\n",
    "                        year = year - 1\n",
    "                        month = 13\n",
    "                    dataEND = \"{0}{1:0>2}\".format(str(year), str(month-1))\n",
    "                    print(\"데이터 없음\")\n",
    "                    jsonData = getToursimStatsItem(dataEND, nat_cd, ed_cd)\n",
    "                    break\n",
    "            natName = jsonData['response']['body']['items']['natKorNm']\n",
    "            natName = natName.replace(' ','')\n",
    "            num = jsonData['response']['body']['items']['item']['num']\n",
    "            ed = jsonData['response']['body']['items']['ed']\n",
    "            print (\"[%s %s %s]\" %(natName, yyyymm, num))\n",
    "            print('-'*70)\n",
    "            jsonResult.append({'nat_name':natName, 'nat_cd':nat_cd, 'yyyymm':yyyymm, 'visit_cnt':num})\n",
    "            result.append([natName, nat_cd, yyyymm, num])\n",
    "    return (jsonResult, result, natName, ed, dataEND)\n",
    "\n"
   ]
  },
  {
   "cell_type": "code",
   "execution_count": 36,
   "id": "f7ae114c",
   "metadata": {},
   "outputs": [],
   "source": [
    "def main():\n",
    "    jsonResult = []\n",
    "    result = []\n",
    "    natName = ''\n",
    "\n",
    "    print(\"<<국내 입국 데이터 조회>>\")\n",
    "    nat_cd = input('국가 코드 입력, 중국:112, 일본:130, 미국:275')\n",
    "    nStartYear = int(input('데이터를 몇 년부터 수집할까요?'))\n",
    "    nEndYear = int(input('데이터를 몇 년까지 수집할까요?'))\n",
    "\n",
    "    ed_cd = 'E'\n",
    "    jsonResult, result, natName, ed, dataEND = getToursimStatsService(nat_cd, ed_cd, nStartYear, nEndYear)\n",
    "\n",
    "    if (natName == \"\"):\n",
    "        print(\"데이터 전달이 안됨\")\n",
    "    else:\n",
    "        with open('./%s_%s_%d_%s.json' % (natName, ed, nStartYear, dataEND), 'w', encoding='utf8') as outfile:\n",
    "            jsonFile = json.dumps(jsonResult, indent = 4, sort_keys = True, ensure_ascil = False)\n",
    "            outfile.write(jsonFile)\n",
    "        colums = [\"입국자국가\", \"국가코드\", \"입국연월\", \"입국자 수\"]\n",
    "        result_df = pd.DataFrame(result, colums = colums)\n",
    "        result_df.to_csv('./%s_%s_%d_%s.csv' %(natName, ed, nStartYear, dataEND), index = False, encoding = 'cp949')\n",
    "\n"
   ]
  },
  {
   "cell_type": "code",
   "execution_count": 35,
   "id": "05228752",
   "metadata": {},
   "outputs": [
    {
     "name": "stdout",
     "output_type": "stream",
     "text": [
      "<<국내 입국 데이터 조회>>\n",
      "http://openapi.tour.go.kr/openapi/service/EdrcntTourismStatsService/getEdrcntTourismStatsList?_type=json&serviceKey=ZGvYmsi4yifshynDqm0fN89tW3PT%2F6bwWgJKimuqSn%2BI3qIew%2BXTrJDgCwE7m8ASq%2BElizrpQrnh%2Bi%2FYz5zEFQ%3D%3D&YM=201701&NAT_CD=112&ED_CD=E\n",
      "[2025-09-24 18:00:16.415368] Url Request Success\n"
     ]
    },
    {
     "ename": "KeyError",
     "evalue": "'natKorNm'",
     "output_type": "error",
     "traceback": [
      "\u001b[31m---------------------------------------------------------------------------\u001b[39m",
      "\u001b[31mKeyError\u001b[39m                                  Traceback (most recent call last)",
      "\u001b[36mCell\u001b[39m\u001b[36m \u001b[39m\u001b[32mIn[35]\u001b[39m\u001b[32m, line 2\u001b[39m\n\u001b[32m      1\u001b[39m \u001b[38;5;28;01mif\u001b[39;00m \u001b[34m__name__\u001b[39m == \u001b[33m\"\u001b[39m\u001b[33m__main__\u001b[39m\u001b[33m\"\u001b[39m:\n\u001b[32m----> \u001b[39m\u001b[32m2\u001b[39m     \u001b[43mmain\u001b[49m\u001b[43m(\u001b[49m\u001b[43m)\u001b[49m\n",
      "\u001b[36mCell\u001b[39m\u001b[36m \u001b[39m\u001b[32mIn[31]\u001b[39m\u001b[32m, line 12\u001b[39m, in \u001b[36mmain\u001b[39m\u001b[34m()\u001b[39m\n\u001b[32m      9\u001b[39m nEndYear = \u001b[38;5;28mint\u001b[39m(\u001b[38;5;28minput\u001b[39m(\u001b[33m'\u001b[39m\u001b[33m데이터를 몇 년까지 수집할까요?\u001b[39m\u001b[33m'\u001b[39m))\n\u001b[32m     11\u001b[39m ed_cd = \u001b[33m'\u001b[39m\u001b[33mE\u001b[39m\u001b[33m'\u001b[39m\n\u001b[32m---> \u001b[39m\u001b[32m12\u001b[39m jsonResult, result, natName, ed, dataEND = \u001b[43mgetToursimStatsService\u001b[49m\u001b[43m(\u001b[49m\u001b[43mnat_cd\u001b[49m\u001b[43m,\u001b[49m\u001b[43m \u001b[49m\u001b[43med_cd\u001b[49m\u001b[43m,\u001b[49m\u001b[43m \u001b[49m\u001b[43mnStartYear\u001b[49m\u001b[43m,\u001b[49m\u001b[43m \u001b[49m\u001b[43mnEndYear\u001b[49m\u001b[43m)\u001b[49m\n\u001b[32m     14\u001b[39m \u001b[38;5;28;01mif\u001b[39;00m (natName == \u001b[33m\"\u001b[39m\u001b[33m\"\u001b[39m):\n\u001b[32m     15\u001b[39m     \u001b[38;5;28mprint\u001b[39m(\u001b[33m\"\u001b[39m\u001b[33m데이터 전달이 안됨\u001b[39m\u001b[33m\"\u001b[39m)\n",
      "\u001b[36mCell\u001b[39m\u001b[36m \u001b[39m\u001b[32mIn[33]\u001b[39m\u001b[32m, line 25\u001b[39m, in \u001b[36mgetToursimStatsService\u001b[39m\u001b[34m(nat_cd, ed_cd, nStartYear, nEndYear)\u001b[39m\n\u001b[32m     23\u001b[39m         jsonData = getToursimStatsItem(dataEND, nat_cd, ed_cd)\n\u001b[32m     24\u001b[39m         \u001b[38;5;28;01mbreak\u001b[39;00m\n\u001b[32m---> \u001b[39m\u001b[32m25\u001b[39m natName = \u001b[43mjsonData\u001b[49m\u001b[43m[\u001b[49m\u001b[33;43m'\u001b[39;49m\u001b[33;43mresponse\u001b[39;49m\u001b[33;43m'\u001b[39;49m\u001b[43m]\u001b[49m\u001b[43m[\u001b[49m\u001b[33;43m'\u001b[39;49m\u001b[33;43mbody\u001b[39;49m\u001b[33;43m'\u001b[39;49m\u001b[43m]\u001b[49m\u001b[43m[\u001b[49m\u001b[33;43m'\u001b[39;49m\u001b[33;43mitems\u001b[39;49m\u001b[33;43m'\u001b[39;49m\u001b[43m]\u001b[49m\u001b[43m[\u001b[49m\u001b[33;43m'\u001b[39;49m\u001b[33;43mnatKorNm\u001b[39;49m\u001b[33;43m'\u001b[39;49m\u001b[43m]\u001b[49m\n\u001b[32m     26\u001b[39m natName = natName.replace(\u001b[33m'\u001b[39m\u001b[33m \u001b[39m\u001b[33m'\u001b[39m,\u001b[33m'\u001b[39m\u001b[33m'\u001b[39m)\n\u001b[32m     27\u001b[39m num = jsonData[\u001b[33m'\u001b[39m\u001b[33mresponse\u001b[39m\u001b[33m'\u001b[39m][\u001b[33m'\u001b[39m\u001b[33mbody\u001b[39m\u001b[33m'\u001b[39m][\u001b[33m'\u001b[39m\u001b[33mitems\u001b[39m\u001b[33m'\u001b[39m][\u001b[33m'\u001b[39m\u001b[33mitem\u001b[39m\u001b[33m'\u001b[39m][\u001b[33m'\u001b[39m\u001b[33mnum\u001b[39m\u001b[33m'\u001b[39m]\n",
      "\u001b[31mKeyError\u001b[39m: 'natKorNm'"
     ]
    }
   ],
   "source": [
    "if __name__ == \"__main__\":\n",
    "    main()"
   ]
  },
  {
   "cell_type": "code",
   "execution_count": 29,
   "id": "f12d767a",
   "metadata": {},
   "outputs": [
    {
     "ename": "NameError",
     "evalue": "name 'jsonResult' is not defined",
     "output_type": "error",
     "traceback": [
      "\u001b[31m---------------------------------------------------------------------------\u001b[39m",
      "\u001b[31mNameError\u001b[39m                                 Traceback (most recent call last)",
      "\u001b[36mCell\u001b[39m\u001b[36m \u001b[39m\u001b[32mIn[29]\u001b[39m\u001b[32m, line 11\u001b[39m\n\u001b[32m      8\u001b[39m index = []\n\u001b[32m      9\u001b[39m i = \u001b[32m0\u001b[39m\n\u001b[32m---> \u001b[39m\u001b[32m11\u001b[39m \u001b[38;5;28;01mfor\u001b[39;00m item \u001b[38;5;129;01min\u001b[39;00m \u001b[43mjsonResult\u001b[49m:\n\u001b[32m     12\u001b[39m     index.append(i)\n\u001b[32m     13\u001b[39m     visitCnt.append(item[\u001b[33m'\u001b[39m\u001b[33mvisit_cnt\u001b[39m\u001b[33m'\u001b[39m])\n",
      "\u001b[31mNameError\u001b[39m: name 'jsonResult' is not defined"
     ]
    }
   ],
   "source": [
    "import matplotlib.pyplot as plt\n",
    "import matplotlib\n",
    "from matplotlib import font_manager,rc\n",
    "\n",
    "visitCnt = []\n",
    "visitVM = []\n",
    "\n",
    "index = []\n",
    "i = 0\n",
    "\n",
    "for item in jsonResult:\n",
    "    index.append(i)\n",
    "    visitCnt.append(item['visit_cnt'])\n",
    "    visitVM.append(item['yyyymm'])\n",
    "    i += 1\n",
    "\n",
    "plt.rc('font', family = 'Malgum Gothic')\n",
    "\n",
    "plt.xticks(idnex, visitYM)\n",
    "plt.plot(index, visitCnt)\n",
    "plt.xlabel('방문월')\n",
    "plt.xticks(rotation=45)\n",
    "plt.ylabel(natName = '에서 온 방문객수')\n",
    "plt.grid(True)\n",
    "plt.show()"
   ]
  },
  {
   "cell_type": "markdown",
   "id": "05c7ecc4",
   "metadata": {},
   "source": []
  }
 ],
 "metadata": {
  "kernelspec": {
   "display_name": ".venv",
   "language": "python",
   "name": "python3"
  },
  "language_info": {
   "codemirror_mode": {
    "name": "ipython",
    "version": 3
   },
   "file_extension": ".py",
   "mimetype": "text/x-python",
   "name": "python",
   "nbconvert_exporter": "python",
   "pygments_lexer": "ipython3",
   "version": "3.11.13"
  }
 },
 "nbformat": 4,
 "nbformat_minor": 5
}
