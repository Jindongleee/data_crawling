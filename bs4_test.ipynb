{
 "cells": [
  {
   "cell_type": "code",
   "execution_count": 1,
   "id": "f53a0458",
   "metadata": {},
   "outputs": [],
   "source": [
    "from bs4 import BeautifulSoup"
   ]
  },
  {
   "cell_type": "code",
   "execution_count": 2,
   "id": "6e0af6f1",
   "metadata": {},
   "outputs": [],
   "source": [
    "import requests"
   ]
  },
  {
   "cell_type": "code",
   "execution_count": 3,
   "id": "80d0565b",
   "metadata": {},
   "outputs": [],
   "source": [
    "url = \"http://localhost:5500/test.html\""
   ]
  },
  {
   "cell_type": "code",
   "execution_count": 4,
   "id": "f45afd38",
   "metadata": {},
   "outputs": [],
   "source": [
    "res = requests.get(url)"
   ]
  },
  {
   "cell_type": "code",
   "execution_count": 5,
   "id": "809470ed",
   "metadata": {},
   "outputs": [
    {
     "name": "stdout",
     "output_type": "stream",
     "text": [
      "200\n",
      "2599\n"
     ]
    }
   ],
   "source": [
    "print(res.status_code)\n",
    "print(len(res.text))"
   ]
  },
  {
   "cell_type": "code",
   "execution_count": 6,
   "id": "23b9ced1",
   "metadata": {},
   "outputs": [],
   "source": [
    "test = res.text.split(\"\\n\")"
   ]
  },
  {
   "cell_type": "code",
   "execution_count": 7,
   "id": "63729143",
   "metadata": {},
   "outputs": [
    {
     "name": "stdout",
     "output_type": "stream",
     "text": [
      "<!DOCTYPE html>\n",
      "<html lang=\"ko\">\n",
      "<head>\n",
      "    <meta charset=\"UTF-8\">\n",
      "    <title>BS4 테스트 페이지</title>\n",
      "</head>\n",
      "<body>\n",
      "    <header>\n",
      "        <h1>BeautifulSoup 테스트</h1>\n",
      "        <nav>\n",
      "            <ul>\n",
      "                <li><a href=\"/home\">홈</a></li>\n",
      "                <li><a href=\"/about\">소개</a></li>\n",
      "                <li><a href=\"/contact\">연락처</a></li>\n",
      "            </ul>\n",
      "        </nav>\n",
      "    </header>\n",
      "\n",
      "    <main>\n",
      "        <section id=\"articles\">\n",
      "            <article class=\"post\">\n",
      "                <h2>첫 번째 글</h2>\n",
      "                <p>이것은 첫 번째 테스트 글입니다.</p>\n",
      "                <a href=\"/post1\">더 보기</a>\n",
      "            </article>\n",
      "            <article class=\"post\">\n",
      "                <h2>두 번째 글</h2>\n",
      "                <p>두 번째 글 내용입니다. <strong>강조</strong>된 텍스트 포함.</p>\n",
      "                <a href=\"/post2\">더 보기</a>\n",
      "            </article>\n",
      "        </section>\n",
      "\n",
      "        <aside>\n",
      "            <h3>사이드바</h3>\n",
      "            <ul>\n",
      "                <li>공지사항</li>\n",
      "                <li>인기 글</li>\n",
      "                <li>태그 클라우드</li>\n",
      "            </ul>\n",
      "        </aside>\n",
      "    </main>\n",
      "\n",
      "    <footer>\n",
      "        <p>Copyright © 2025 TestSite</p>\n",
      "    </footer>\n",
      "<!-- Code injected by live-server -->\n",
      "<script>\n",
      "\t// <![CDATA[  <-- For SVG support\n",
      "\tif ('WebSocket' in window) {\n",
      "\t\t(function () {\n",
      "\t\t\tfunction refreshCSS() {\n",
      "\t\t\t\tvar sheets = [].slice.call(document.getElementsByTagName(\"link\"));\n",
      "\t\t\t\tvar head = document.getElementsByTagName(\"head\")[0];\n",
      "\t\t\t\tfor (var i = 0; i < sheets.length; ++i) {\n",
      "\t\t\t\t\tvar elem = sheets[i];\n",
      "\t\t\t\t\tvar parent = elem.parentElement || head;\n",
      "\t\t\t\t\tparent.removeChild(elem);\n",
      "\t\t\t\t\tvar rel = elem.rel;\n",
      "\t\t\t\t\tif (elem.href && typeof rel != \"string\" || rel.length == 0 || rel.toLowerCase() == \"stylesheet\") {\n",
      "\t\t\t\t\t\tvar url = elem.href.replace(/(&|\\?)_cacheOverride=\\d+/, '');\n",
      "\t\t\t\t\t\telem.href = url + (url.indexOf('?') >= 0 ? '&' : '?') + '_cacheOverride=' + (new Date().valueOf());\n",
      "\t\t\t\t\t}\n",
      "\t\t\t\t\tparent.appendChild(elem);\n",
      "\t\t\t\t}\n",
      "\t\t\t}\n",
      "\t\t\tvar protocol = window.location.protocol === 'http:' ? 'ws://' : 'wss://';\n",
      "\t\t\tvar address = protocol + window.location.host + window.location.pathname + '/ws';\n",
      "\t\t\tvar socket = new WebSocket(address);\n",
      "\t\t\tsocket.onmessage = function (msg) {\n",
      "\t\t\t\tif (msg.data == 'reload') window.location.reload();\n",
      "\t\t\t\telse if (msg.data == 'refreshcss') refreshCSS();\n",
      "\t\t\t};\n",
      "\t\t\tif (sessionStorage && !sessionStorage.getItem('IsThisFirstTime_Log_From_LiveServer')) {\n",
      "\t\t\t\tconsole.log('Live reload enabled.');\n",
      "\t\t\t\tsessionStorage.setItem('IsThisFirstTime_Log_From_LiveServer', true);\n",
      "\t\t\t}\n",
      "\t\t})();\n",
      "\t}\n",
      "\telse {\n",
      "\t\tconsole.error('Upgrade your browser. This Browser is NOT supported WebSocket for Live-Reloading.');\n",
      "\t}\n",
      "\t// ]]>\n",
      "</script>\n",
      "</body>\n",
      "</html>\n"
     ]
    }
   ],
   "source": [
    "for i in test:\n",
    "    print(i)"
   ]
  },
  {
   "cell_type": "code",
   "execution_count": 8,
   "id": "8e5bd0c9",
   "metadata": {},
   "outputs": [],
   "source": [
    "# BeautifulSoup은 파싱이지 가져오지 않음 -> requests해야됨\n",
    "soup = BeautifulSoup(res.text, \"html.parser\")"
   ]
  },
  {
   "cell_type": "code",
   "execution_count": 9,
   "id": "8bc9e670",
   "metadata": {},
   "outputs": [],
   "source": [
    "import re"
   ]
  },
  {
   "cell_type": "code",
   "execution_count": 10,
   "id": "cf159786",
   "metadata": {},
   "outputs": [
    {
     "data": {
      "text/plain": [
       "[]"
      ]
     },
     "execution_count": 10,
     "metadata": {},
     "output_type": "execute_result"
    }
   ],
   "source": [
    "# HTML 문서에서 모든 <a> 링크를 찾고\n",
    "# href 속성이 특정 패턴과 일치하는 것만 선택\n",
    "# re.compile() -> 정규식 , ^ = 문자열 시작, s? -> s가 있어도 되고 없어도 됨\n",
    "# 즉 https or http로 시작하는 a링크를 모두 가져옴\n",
    "soup.find_all(\"a\", href = re.compile(r\"^https?://\"))"
   ]
  },
  {
   "cell_type": "code",
   "execution_count": 11,
   "id": "bd36ad79",
   "metadata": {},
   "outputs": [],
   "source": [
    "# 배열처럼 사용 가능\n",
    "arr = soup.find_all(\"a\", href = re.compile(r\"^/\"))"
   ]
  },
  {
   "cell_type": "code",
   "execution_count": 12,
   "id": "de0f3c65",
   "metadata": {},
   "outputs": [
    {
     "data": {
      "text/plain": [
       "<a href=\"/home\">홈</a>"
      ]
     },
     "execution_count": 12,
     "metadata": {},
     "output_type": "execute_result"
    }
   ],
   "source": [
    "arr[0]"
   ]
  },
  {
   "cell_type": "code",
   "execution_count": null,
   "id": "e3c6d14f",
   "metadata": {},
   "outputs": [
    {
     "data": {
      "text/plain": [
       "<a href=\"/home\">홈</a>"
      ]
     },
     "execution_count": 14,
     "metadata": {},
     "output_type": "execute_result"
    }
   ],
   "source": [
    "# css 선택자를 사용해서 조건에 맞는 첫번째 요소만 가져오는 함수\n",
    "# css 선택자란 class 이름 or id\n",
    "soup.select_one(\"a\")"
   ]
  },
  {
   "cell_type": "code",
   "execution_count": null,
   "id": "dd6072c4",
   "metadata": {},
   "outputs": [],
   "source": []
  }
 ],
 "metadata": {
  "kernelspec": {
   "display_name": ".venv",
   "language": "python",
   "name": "python3"
  },
  "language_info": {
   "codemirror_mode": {
    "name": "ipython",
    "version": 3
   },
   "file_extension": ".py",
   "mimetype": "text/x-python",
   "name": "python",
   "nbconvert_exporter": "python",
   "pygments_lexer": "ipython3",
   "version": "3.11.13"
  }
 },
 "nbformat": 4,
 "nbformat_minor": 5
}
